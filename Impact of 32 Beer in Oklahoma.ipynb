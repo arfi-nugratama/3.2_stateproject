{
 "cells": [
  {
   "cell_type": "markdown",
   "metadata": {},
   "source": [
    "# Impact of 3.2 Beer in Oklahoma"
   ]
  },
  {
   "cell_type": "code",
   "execution_count": 1,
   "metadata": {
    "collapsed": true
   },
   "outputs": [],
   "source": [
    "# packages used\n",
    "import pandas as pd\n",
    "import numpy as np\n",
    "from sklearn import cluster\n",
    "from sklearn import metrics\n",
    "from sklearn.cluster import KMeans\n",
    "from scipy.spatial.distance import cdist\n",
    "import matplotlib.pyplot as plt\n",
    "import statsmodels.formula.api as smf\n",
    "%matplotlib inline"
   ]
  },
  {
   "cell_type": "markdown",
   "metadata": {},
   "source": [
    "### Load Data"
   ]
  },
  {
   "cell_type": "code",
   "execution_count": 2,
   "metadata": {
    "collapsed": true
   },
   "outputs": [],
   "source": [
    "Stores = pd.read_csv('OklahomaStoreDataV1.csv')"
   ]
  },
  {
   "cell_type": "markdown",
   "metadata": {},
   "source": [
    "#### Clean Data"
   ]
  },
  {
   "cell_type": "code",
   "execution_count": 3,
   "metadata": {
    "collapsed": true
   },
   "outputs": [],
   "source": [
    "#Remove Stores without Depletion data for the last year (NAs)\n",
    "Stores = Stores.loc[Stores['L12M_TY_QTY'].notnull(),:]\n",
    "\n",
    "#Remove Stores with Negative Depletion data for the last year\n",
    "Stores = Stores.loc[Stores['L12M_TY_QTY'] >= 0,:] \n",
    "\n",
    "#Remove Stores without Demographic data (NAs)\n",
    "Stores = Stores.loc[Stores['MALE_POP_5564_PCT'].notnull(),:] \n",
    "\n",
    "Stores = Stores.reset_index(drop=True)\n",
    "\n",
    "#Change Y and N to 1 and 0\n",
    "Stores['CHAIN_IND_FLG'] = Stores['CHAIN_IND_FLG']=='Y'\n",
    "Stores['FRANCHISE_FLG'] = Stores['FRANCHISE_FLG']=='Y'\n",
    "Stores['BEER_FLG'] = Stores['BEER_FLG']=='Y'\n",
    "Stores['WINE_FLG'] = Stores['WINE_FLG']=='Y'\n",
    "Stores['LIQUOR_FLG'] = Stores['LIQUOR_FLG']=='Y'\n",
    "Stores['FINE_WINE_FLG'] = Stores['FINE_WINE_FLG']=='Y'\n",
    "\n",
    "Stores['STORE_CD'] = Stores['STORE_CD'].astype(str)"
   ]
  },
  {
   "cell_type": "code",
   "execution_count": 4,
   "metadata": {},
   "outputs": [
    {
     "data": {
      "text/html": [
       "<div>\n",
       "<style>\n",
       "    .dataframe thead tr:only-child th {\n",
       "        text-align: right;\n",
       "    }\n",
       "\n",
       "    .dataframe thead th {\n",
       "        text-align: left;\n",
       "    }\n",
       "\n",
       "    .dataframe tbody tr th {\n",
       "        vertical-align: top;\n",
       "    }\n",
       "</style>\n",
       "<table border=\"1\" class=\"dataframe\">\n",
       "  <thead>\n",
       "    <tr style=\"text-align: right;\">\n",
       "      <th></th>\n",
       "      <th>STORE_CD</th>\n",
       "      <th>L12M_TY_QTY</th>\n",
       "      <th>PREMISE_TYPE_DSC</th>\n",
       "      <th>CHANNEL_DSC</th>\n",
       "      <th>SUBCHANNEL_DSC</th>\n",
       "      <th>NO_OF_STORES_DSC</th>\n",
       "      <th>FOOD_TYPE_GROUP_DSC</th>\n",
       "      <th>INDUSTRY_VOL_DSC</th>\n",
       "      <th>PATRON_ETHNICITY_DSC</th>\n",
       "      <th>PATRON_OCCUPATION_DSC</th>\n",
       "      <th>...</th>\n",
       "      <th>MALE_POP_5564_PCT</th>\n",
       "      <th>MALE_POP_6574_PCT</th>\n",
       "      <th>MALE_POP_75_PCT</th>\n",
       "      <th>FEMALE_POP_2124_PCT</th>\n",
       "      <th>FEMALE_POP_2534_PCT</th>\n",
       "      <th>FEMALE_POP_3544_PCT</th>\n",
       "      <th>FEMALE_POP_4554_PCT</th>\n",
       "      <th>FEMALE_POP_5564_PCT</th>\n",
       "      <th>FEMALE_POP_6574_PCT</th>\n",
       "      <th>FEMALE_POP_75_PCT</th>\n",
       "    </tr>\n",
       "  </thead>\n",
       "  <tbody>\n",
       "    <tr>\n",
       "      <th>0</th>\n",
       "      <td>102229771</td>\n",
       "      <td>77.9998</td>\n",
       "      <td>OFF PREMISE</td>\n",
       "      <td>CONVENIENCE STORE</td>\n",
       "      <td>CONVENTIONAL CONVENIENCE</td>\n",
       "      <td>1 STORE</td>\n",
       "      <td>OTHER</td>\n",
       "      <td>MID 30% ON/ MID 60% OFF</td>\n",
       "      <td>GENERAL POPULATION</td>\n",
       "      <td>WHITE COLLAR</td>\n",
       "      <td>...</td>\n",
       "      <td>0.0755</td>\n",
       "      <td>0.0666</td>\n",
       "      <td>0.0278</td>\n",
       "      <td>0.0238</td>\n",
       "      <td>0.0549</td>\n",
       "      <td>0.0553</td>\n",
       "      <td>0.0614</td>\n",
       "      <td>0.0756</td>\n",
       "      <td>0.0588</td>\n",
       "      <td>0.0347</td>\n",
       "    </tr>\n",
       "    <tr>\n",
       "      <th>1</th>\n",
       "      <td>101973306</td>\n",
       "      <td>0.0000</td>\n",
       "      <td>ON PREMISE</td>\n",
       "      <td>DINING</td>\n",
       "      <td>CASUAL DINING</td>\n",
       "      <td>1 STORE</td>\n",
       "      <td>MEXICAN</td>\n",
       "      <td>LOWEST 20% ON/ LOWEST 20% OFF</td>\n",
       "      <td>GENERAL POPULATION</td>\n",
       "      <td>WHITE COLLAR</td>\n",
       "      <td>...</td>\n",
       "      <td>0.0630</td>\n",
       "      <td>0.0476</td>\n",
       "      <td>0.0255</td>\n",
       "      <td>0.0240</td>\n",
       "      <td>0.0624</td>\n",
       "      <td>0.0639</td>\n",
       "      <td>0.0651</td>\n",
       "      <td>0.0697</td>\n",
       "      <td>0.0537</td>\n",
       "      <td>0.0373</td>\n",
       "    </tr>\n",
       "    <tr>\n",
       "      <th>2</th>\n",
       "      <td>101411860</td>\n",
       "      <td>0.0000</td>\n",
       "      <td>OFF PREMISE</td>\n",
       "      <td>LIQUOR</td>\n",
       "      <td>CONVENTIONAL LIQUOR</td>\n",
       "      <td>1 STORE</td>\n",
       "      <td>OTHER</td>\n",
       "      <td>LOWEST 20% ON/ LOWEST 20% OFF</td>\n",
       "      <td>GENERAL POPULATION</td>\n",
       "      <td>WHITE COLLAR</td>\n",
       "      <td>...</td>\n",
       "      <td>0.0619</td>\n",
       "      <td>0.0500</td>\n",
       "      <td>0.0363</td>\n",
       "      <td>0.0234</td>\n",
       "      <td>0.0608</td>\n",
       "      <td>0.0562</td>\n",
       "      <td>0.0591</td>\n",
       "      <td>0.0685</td>\n",
       "      <td>0.0589</td>\n",
       "      <td>0.0480</td>\n",
       "    </tr>\n",
       "    <tr>\n",
       "      <th>3</th>\n",
       "      <td>107462381</td>\n",
       "      <td>6.0000</td>\n",
       "      <td>ON PREMISE</td>\n",
       "      <td>DINING</td>\n",
       "      <td>CASUAL DINING</td>\n",
       "      <td>1 STORE</td>\n",
       "      <td>ITALIAN</td>\n",
       "      <td>LOWEST 20% ON/ LOWEST 20% OFF</td>\n",
       "      <td>GENERAL POPULATION</td>\n",
       "      <td>WHITE COLLAR</td>\n",
       "      <td>...</td>\n",
       "      <td>0.0619</td>\n",
       "      <td>0.0479</td>\n",
       "      <td>0.0305</td>\n",
       "      <td>0.0237</td>\n",
       "      <td>0.0653</td>\n",
       "      <td>0.0555</td>\n",
       "      <td>0.0612</td>\n",
       "      <td>0.0720</td>\n",
       "      <td>0.0601</td>\n",
       "      <td>0.0493</td>\n",
       "    </tr>\n",
       "    <tr>\n",
       "      <th>4</th>\n",
       "      <td>201961279</td>\n",
       "      <td>55.0000</td>\n",
       "      <td>ON PREMISE</td>\n",
       "      <td>DINING</td>\n",
       "      <td>CASUAL DINING</td>\n",
       "      <td>1 STORE</td>\n",
       "      <td>MEXICAN</td>\n",
       "      <td>LOWEST 20% ON/ LOWEST 20% OFF</td>\n",
       "      <td>GENERAL POPULATION</td>\n",
       "      <td>UNKNOWN</td>\n",
       "      <td>...</td>\n",
       "      <td>0.0552</td>\n",
       "      <td>0.0385</td>\n",
       "      <td>0.0277</td>\n",
       "      <td>0.0226</td>\n",
       "      <td>0.0881</td>\n",
       "      <td>0.0697</td>\n",
       "      <td>0.0566</td>\n",
       "      <td>0.0667</td>\n",
       "      <td>0.0497</td>\n",
       "      <td>0.0438</td>\n",
       "    </tr>\n",
       "  </tbody>\n",
       "</table>\n",
       "<p>5 rows × 47 columns</p>\n",
       "</div>"
      ],
      "text/plain": [
       "    STORE_CD  L12M_TY_QTY PREMISE_TYPE_DSC        CHANNEL_DSC  \\\n",
       "0  102229771      77.9998      OFF PREMISE  CONVENIENCE STORE   \n",
       "1  101973306       0.0000       ON PREMISE             DINING   \n",
       "2  101411860       0.0000      OFF PREMISE             LIQUOR   \n",
       "3  107462381       6.0000       ON PREMISE             DINING   \n",
       "4  201961279      55.0000       ON PREMISE             DINING   \n",
       "\n",
       "             SUBCHANNEL_DSC NO_OF_STORES_DSC FOOD_TYPE_GROUP_DSC  \\\n",
       "0  CONVENTIONAL CONVENIENCE          1 STORE               OTHER   \n",
       "1             CASUAL DINING          1 STORE             MEXICAN   \n",
       "2       CONVENTIONAL LIQUOR          1 STORE               OTHER   \n",
       "3             CASUAL DINING          1 STORE             ITALIAN   \n",
       "4             CASUAL DINING          1 STORE             MEXICAN   \n",
       "\n",
       "                INDUSTRY_VOL_DSC PATRON_ETHNICITY_DSC PATRON_OCCUPATION_DSC  \\\n",
       "0        MID 30% ON/ MID 60% OFF   GENERAL POPULATION          WHITE COLLAR   \n",
       "1  LOWEST 20% ON/ LOWEST 20% OFF   GENERAL POPULATION          WHITE COLLAR   \n",
       "2  LOWEST 20% ON/ LOWEST 20% OFF   GENERAL POPULATION          WHITE COLLAR   \n",
       "3  LOWEST 20% ON/ LOWEST 20% OFF   GENERAL POPULATION          WHITE COLLAR   \n",
       "4  LOWEST 20% ON/ LOWEST 20% OFF   GENERAL POPULATION               UNKNOWN   \n",
       "\n",
       "         ...         MALE_POP_5564_PCT  MALE_POP_6574_PCT  MALE_POP_75_PCT  \\\n",
       "0        ...                    0.0755             0.0666           0.0278   \n",
       "1        ...                    0.0630             0.0476           0.0255   \n",
       "2        ...                    0.0619             0.0500           0.0363   \n",
       "3        ...                    0.0619             0.0479           0.0305   \n",
       "4        ...                    0.0552             0.0385           0.0277   \n",
       "\n",
       "   FEMALE_POP_2124_PCT  FEMALE_POP_2534_PCT  FEMALE_POP_3544_PCT  \\\n",
       "0               0.0238               0.0549               0.0553   \n",
       "1               0.0240               0.0624               0.0639   \n",
       "2               0.0234               0.0608               0.0562   \n",
       "3               0.0237               0.0653               0.0555   \n",
       "4               0.0226               0.0881               0.0697   \n",
       "\n",
       "   FEMALE_POP_4554_PCT  FEMALE_POP_5564_PCT  FEMALE_POP_6574_PCT  \\\n",
       "0               0.0614               0.0756               0.0588   \n",
       "1               0.0651               0.0697               0.0537   \n",
       "2               0.0591               0.0685               0.0589   \n",
       "3               0.0612               0.0720               0.0601   \n",
       "4               0.0566               0.0667               0.0497   \n",
       "\n",
       "   FEMALE_POP_75_PCT  \n",
       "0             0.0347  \n",
       "1             0.0373  \n",
       "2             0.0480  \n",
       "3             0.0493  \n",
       "4             0.0438  \n",
       "\n",
       "[5 rows x 47 columns]"
      ]
     },
     "execution_count": 4,
     "metadata": {},
     "output_type": "execute_result"
    }
   ],
   "source": [
    "Stores.head()"
   ]
  },
  {
   "cell_type": "code",
   "execution_count": 5,
   "metadata": {},
   "outputs": [
    {
     "data": {
      "text/plain": [
       "5561"
      ]
     },
     "execution_count": 5,
     "metadata": {},
     "output_type": "execute_result"
    }
   ],
   "source": [
    "#Number of Stores\n",
    "len(Stores)"
   ]
  },
  {
   "cell_type": "markdown",
   "metadata": {},
   "source": [
    "### Data Preprocessing"
   ]
  },
  {
   "cell_type": "code",
   "execution_count": 6,
   "metadata": {
    "collapsed": true
   },
   "outputs": [],
   "source": [
    "#Binarize function\n",
    "def binarize(dataframe , column):\n",
    "    dataframe = pd.concat([dataframe ,pd.get_dummies(dataframe[column] , prefix = ['B_'+c for c in column])] , axis = 1)\n",
    "    return(dataframe)"
   ]
  },
  {
   "cell_type": "code",
   "execution_count": 7,
   "metadata": {
    "collapsed": true
   },
   "outputs": [],
   "source": [
    "#Get Dummies\n",
    "DummiesColumns = ['PREMISE_TYPE_DSC','CHANNEL_DSC','SUBCHANNEL_DSC','NO_OF_STORES_DSC','FOOD_TYPE_GROUP_DSC','INDUSTRY_VOL_DSC',\n",
    "                 'PATRON_ETHNICITY_DSC','PATRON_OCCUPATION_DSC','PATRON_AGE_DSC']\n",
    "StoresC = binarize(Stores, DummiesColumns)"
   ]
  },
  {
   "cell_type": "code",
   "execution_count": 8,
   "metadata": {
    "collapsed": true
   },
   "outputs": [],
   "source": [
    "# prepare data to fit model\n",
    "X_labels = [c for c in StoresC.columns if c not in ['PREMISE_TYPE_DSC','CHANNEL_DSC','SUBCHANNEL_DSC','NO_OF_STORES_DSC',\n",
    "                                                     'FOOD_TYPE_GROUP_DSC','INDUSTRY_VOL_DSC','PATRON_ETHNICITY_DSC',\n",
    "                                                     'PATRON_OCCUPATION_DSC','PATRON_AGE_DSC','STORE_CD']]\n",
    "X = StoresC.loc[:,X_labels]"
   ]
  },
  {
   "cell_type": "code",
   "execution_count": 9,
   "metadata": {},
   "outputs": [
    {
     "data": {
      "text/html": [
       "<div>\n",
       "<style>\n",
       "    .dataframe thead tr:only-child th {\n",
       "        text-align: right;\n",
       "    }\n",
       "\n",
       "    .dataframe thead th {\n",
       "        text-align: left;\n",
       "    }\n",
       "\n",
       "    .dataframe tbody tr th {\n",
       "        vertical-align: top;\n",
       "    }\n",
       "</style>\n",
       "<table border=\"1\" class=\"dataframe\">\n",
       "  <thead>\n",
       "    <tr style=\"text-align: right;\">\n",
       "      <th></th>\n",
       "      <th>L12M_TY_QTY</th>\n",
       "      <th>CHAIN_IND_FLG</th>\n",
       "      <th>FRANCHISE_FLG</th>\n",
       "      <th>BEER_FLG</th>\n",
       "      <th>WINE_FLG</th>\n",
       "      <th>LIQUOR_FLG</th>\n",
       "      <th>FINE_WINE_FLG</th>\n",
       "      <th>WHITE_POP_PCT</th>\n",
       "      <th>BLACK_POP_PCT</th>\n",
       "      <th>ASIAN_POP_PCT</th>\n",
       "      <th>...</th>\n",
       "      <th>B_PATRON_ETHNICITY_DSC_MEXICAN</th>\n",
       "      <th>B_PATRON_ETHNICITY_DSC_UNKNOWN</th>\n",
       "      <th>B_PATRON_OCCUPATION_DSC_BLUE COLLAR</th>\n",
       "      <th>B_PATRON_OCCUPATION_DSC_COLLEGE</th>\n",
       "      <th>B_PATRON_OCCUPATION_DSC_OTHER</th>\n",
       "      <th>B_PATRON_OCCUPATION_DSC_UNKNOWN</th>\n",
       "      <th>B_PATRON_OCCUPATION_DSC_WHITE COLLAR</th>\n",
       "      <th>B_PATRON_AGE_DSC_GENERAL POPULATION</th>\n",
       "      <th>B_PATRON_AGE_DSC_UNKNOWN</th>\n",
       "      <th>B_PATRON_AGE_DSC_YOUNG ADULT (21-28)</th>\n",
       "    </tr>\n",
       "  </thead>\n",
       "  <tbody>\n",
       "    <tr>\n",
       "      <th>0</th>\n",
       "      <td>77.9998</td>\n",
       "      <td>False</td>\n",
       "      <td>False</td>\n",
       "      <td>True</td>\n",
       "      <td>False</td>\n",
       "      <td>False</td>\n",
       "      <td>False</td>\n",
       "      <td>0.7535</td>\n",
       "      <td>0.0051</td>\n",
       "      <td>0.0024</td>\n",
       "      <td>...</td>\n",
       "      <td>0</td>\n",
       "      <td>0</td>\n",
       "      <td>0</td>\n",
       "      <td>0</td>\n",
       "      <td>0</td>\n",
       "      <td>0</td>\n",
       "      <td>1</td>\n",
       "      <td>1</td>\n",
       "      <td>0</td>\n",
       "      <td>0</td>\n",
       "    </tr>\n",
       "    <tr>\n",
       "      <th>1</th>\n",
       "      <td>0.0000</td>\n",
       "      <td>False</td>\n",
       "      <td>False</td>\n",
       "      <td>True</td>\n",
       "      <td>False</td>\n",
       "      <td>False</td>\n",
       "      <td>False</td>\n",
       "      <td>0.7851</td>\n",
       "      <td>0.0285</td>\n",
       "      <td>0.0114</td>\n",
       "      <td>...</td>\n",
       "      <td>0</td>\n",
       "      <td>0</td>\n",
       "      <td>0</td>\n",
       "      <td>0</td>\n",
       "      <td>0</td>\n",
       "      <td>0</td>\n",
       "      <td>1</td>\n",
       "      <td>1</td>\n",
       "      <td>0</td>\n",
       "      <td>0</td>\n",
       "    </tr>\n",
       "    <tr>\n",
       "      <th>2</th>\n",
       "      <td>0.0000</td>\n",
       "      <td>False</td>\n",
       "      <td>False</td>\n",
       "      <td>True</td>\n",
       "      <td>True</td>\n",
       "      <td>True</td>\n",
       "      <td>False</td>\n",
       "      <td>0.5684</td>\n",
       "      <td>0.0198</td>\n",
       "      <td>0.0033</td>\n",
       "      <td>...</td>\n",
       "      <td>0</td>\n",
       "      <td>0</td>\n",
       "      <td>0</td>\n",
       "      <td>0</td>\n",
       "      <td>0</td>\n",
       "      <td>0</td>\n",
       "      <td>1</td>\n",
       "      <td>1</td>\n",
       "      <td>0</td>\n",
       "      <td>0</td>\n",
       "    </tr>\n",
       "    <tr>\n",
       "      <th>3</th>\n",
       "      <td>6.0000</td>\n",
       "      <td>False</td>\n",
       "      <td>False</td>\n",
       "      <td>True</td>\n",
       "      <td>True</td>\n",
       "      <td>True</td>\n",
       "      <td>False</td>\n",
       "      <td>0.5599</td>\n",
       "      <td>0.1605</td>\n",
       "      <td>0.0069</td>\n",
       "      <td>...</td>\n",
       "      <td>0</td>\n",
       "      <td>0</td>\n",
       "      <td>0</td>\n",
       "      <td>0</td>\n",
       "      <td>0</td>\n",
       "      <td>0</td>\n",
       "      <td>1</td>\n",
       "      <td>1</td>\n",
       "      <td>0</td>\n",
       "      <td>0</td>\n",
       "    </tr>\n",
       "    <tr>\n",
       "      <th>4</th>\n",
       "      <td>55.0000</td>\n",
       "      <td>False</td>\n",
       "      <td>False</td>\n",
       "      <td>True</td>\n",
       "      <td>True</td>\n",
       "      <td>True</td>\n",
       "      <td>False</td>\n",
       "      <td>0.6656</td>\n",
       "      <td>0.1708</td>\n",
       "      <td>0.0339</td>\n",
       "      <td>...</td>\n",
       "      <td>0</td>\n",
       "      <td>0</td>\n",
       "      <td>0</td>\n",
       "      <td>0</td>\n",
       "      <td>0</td>\n",
       "      <td>1</td>\n",
       "      <td>0</td>\n",
       "      <td>0</td>\n",
       "      <td>1</td>\n",
       "      <td>0</td>\n",
       "    </tr>\n",
       "  </tbody>\n",
       "</table>\n",
       "<p>5 rows × 131 columns</p>\n",
       "</div>"
      ],
      "text/plain": [
       "   L12M_TY_QTY  CHAIN_IND_FLG  FRANCHISE_FLG  BEER_FLG  WINE_FLG  LIQUOR_FLG  \\\n",
       "0      77.9998          False          False      True     False       False   \n",
       "1       0.0000          False          False      True     False       False   \n",
       "2       0.0000          False          False      True      True        True   \n",
       "3       6.0000          False          False      True      True        True   \n",
       "4      55.0000          False          False      True      True        True   \n",
       "\n",
       "   FINE_WINE_FLG  WHITE_POP_PCT  BLACK_POP_PCT  ASIAN_POP_PCT  \\\n",
       "0          False         0.7535         0.0051         0.0024   \n",
       "1          False         0.7851         0.0285         0.0114   \n",
       "2          False         0.5684         0.0198         0.0033   \n",
       "3          False         0.5599         0.1605         0.0069   \n",
       "4          False         0.6656         0.1708         0.0339   \n",
       "\n",
       "                   ...                   B_PATRON_ETHNICITY_DSC_MEXICAN  \\\n",
       "0                  ...                                                0   \n",
       "1                  ...                                                0   \n",
       "2                  ...                                                0   \n",
       "3                  ...                                                0   \n",
       "4                  ...                                                0   \n",
       "\n",
       "   B_PATRON_ETHNICITY_DSC_UNKNOWN  B_PATRON_OCCUPATION_DSC_BLUE COLLAR  \\\n",
       "0                               0                                    0   \n",
       "1                               0                                    0   \n",
       "2                               0                                    0   \n",
       "3                               0                                    0   \n",
       "4                               0                                    0   \n",
       "\n",
       "   B_PATRON_OCCUPATION_DSC_COLLEGE  B_PATRON_OCCUPATION_DSC_OTHER  \\\n",
       "0                                0                              0   \n",
       "1                                0                              0   \n",
       "2                                0                              0   \n",
       "3                                0                              0   \n",
       "4                                0                              0   \n",
       "\n",
       "   B_PATRON_OCCUPATION_DSC_UNKNOWN  B_PATRON_OCCUPATION_DSC_WHITE COLLAR  \\\n",
       "0                                0                                     1   \n",
       "1                                0                                     1   \n",
       "2                                0                                     1   \n",
       "3                                0                                     1   \n",
       "4                                1                                     0   \n",
       "\n",
       "   B_PATRON_AGE_DSC_GENERAL POPULATION  B_PATRON_AGE_DSC_UNKNOWN  \\\n",
       "0                                    1                         0   \n",
       "1                                    1                         0   \n",
       "2                                    1                         0   \n",
       "3                                    1                         0   \n",
       "4                                    0                         1   \n",
       "\n",
       "   B_PATRON_AGE_DSC_YOUNG ADULT (21-28)  \n",
       "0                                     0  \n",
       "1                                     0  \n",
       "2                                     0  \n",
       "3                                     0  \n",
       "4                                     0  \n",
       "\n",
       "[5 rows x 131 columns]"
      ]
     },
     "execution_count": 9,
     "metadata": {},
     "output_type": "execute_result"
    }
   ],
   "source": [
    "X.head()"
   ]
  },
  {
   "cell_type": "markdown",
   "metadata": {},
   "source": [
    "## Clustering"
   ]
  },
  {
   "cell_type": "markdown",
   "metadata": {},
   "source": [
    "### Choose number of Clusters"
   ]
  },
  {
   "cell_type": "code",
   "execution_count": 10,
   "metadata": {
    "collapsed": true
   },
   "outputs": [],
   "source": [
    "#Elbow Method\n",
    "K = range(1, 40)\n",
    "meandistortions = []\n",
    "for k in K:\n",
    "    kmeans = KMeans(n_clusters=k, n_jobs=-2)\n",
    "    kmeans.fit(X)\n",
    "    meandistortions.append(sum(np.min(cdist(X, kmeans.cluster_centers_, 'euclidean'), axis=1)) / X.shape[0])"
   ]
  },
  {
   "cell_type": "code",
   "execution_count": 11,
   "metadata": {},
   "outputs": [
    {
     "data": {
      "image/png": "[encoded data removed]",
      "text/plain": [
       "<matplotlib.figure.Figure at 0xbd3eb70>"
      ]
     },
     "metadata": {},
     "output_type": "display_data"
    }
   ],
   "source": [
    "plt.plot(K, meandistortions, 'bx-')\n",
    "plt.xlabel('k')\n",
    "plt.ylabel('Average distortion')\n",
    "plt.title('Selecting k with the Elbow Method')\n",
    "plt.show()"
   ]
  },
  {
   "cell_type": "code",
   "execution_count": 12,
   "metadata": {
    "collapsed": true
   },
   "outputs": [],
   "source": [
    "#Tunned Elbow Method\n",
    "K = range(1, 20)\n",
    "meandistortions = []\n",
    "for k in K:\n",
    "    kmeans = KMeans(n_clusters=k, n_jobs=-2)\n",
    "    kmeans.fit(X)\n",
    "    meandistortions.append(sum(np.min(cdist(X, kmeans.cluster_centers_, 'euclidean'), axis=1)) / X.shape[0])"
   ]
  },
  {
   "cell_type": "code",
   "execution_count": 13,
   "metadata": {},
   "outputs": [
    {
     "data": {
      "image/png": "[encoded data removed]",
      "text/plain": [
       "<matplotlib.figure.Figure at 0xcc98908>"
      ]
     },
     "metadata": {},
     "output_type": "display_data"
    }
   ],
   "source": [
    "plt.plot(K, meandistortions, 'bx-')\n",
    "plt.xlabel('k')\n",
    "plt.ylabel('Average distortion')\n",
    "plt.title('Selecting k with the Elbow Method')\n",
    "plt.show()"
   ]
  },
  {
   "cell_type": "code",
   "execution_count": 14,
   "metadata": {},
   "outputs": [],
   "source": [
    "#Silhouette_score\n",
    "#results = []\n",
    "#NumberClusters = range(2,10,1)\n",
    "#for k in NumberClusters:\n",
    "#    kmeans_model = cluster.KMeans(n_clusters=k, random_state=1).fit(X)\n",
    "#    labels = kmeans_model.labels_\n",
    "#    score = metrics.silhouette_score(X, labels, metric='euclidean')\n",
    "#    results.append((k,score))\n",
    "\n",
    "#Clustering_Score = pd.DataFrame(data=results,columns=['NumberOfClusters','silhouette_score'])\n",
    "#Clustering_Score"
   ]
  },
  {
   "cell_type": "code",
   "execution_count": 15,
   "metadata": {
    "collapsed": true
   },
   "outputs": [],
   "source": [
    "#Cluster the Data\n",
    "kmeans_model = cluster.KMeans(n_clusters=7, random_state=1).fit(X)\n",
    "labels = kmeans_model.labels_"
   ]
  },
  {
   "cell_type": "code",
   "execution_count": 16,
   "metadata": {
    "collapsed": true
   },
   "outputs": [],
   "source": [
    "#Assign Cluster to Data\n",
    "Stores['CLUSTER'] = labels"
   ]
  },
  {
   "cell_type": "markdown",
   "metadata": {
    "collapsed": true
   },
   "source": [
    "## Regression Analysis"
   ]
  },
  {
   "cell_type": "code",
   "execution_count": 17,
   "metadata": {
    "collapsed": true
   },
   "outputs": [],
   "source": [
    "#Load classification data\n",
    "StoresClass = pd.read_csv('NonLowPointStoresOklahoma.csv', dtype = str)"
   ]
  },
  {
   "cell_type": "code",
   "execution_count": 18,
   "metadata": {},
   "outputs": [
    {
     "data": {
      "text/html": [
       "<div>\n",
       "<style>\n",
       "    .dataframe thead tr:only-child th {\n",
       "        text-align: right;\n",
       "    }\n",
       "\n",
       "    .dataframe thead th {\n",
       "        text-align: left;\n",
       "    }\n",
       "\n",
       "    .dataframe tbody tr th {\n",
       "        vertical-align: top;\n",
       "    }\n",
       "</style>\n",
       "<table border=\"1\" class=\"dataframe\">\n",
       "  <thead>\n",
       "    <tr style=\"text-align: right;\">\n",
       "      <th></th>\n",
       "      <th>RTL_STORE_CD</th>\n",
       "      <th>BEERTYPE</th>\n",
       "    </tr>\n",
       "  </thead>\n",
       "  <tbody>\n",
       "    <tr>\n",
       "      <th>0</th>\n",
       "      <td>102523621</td>\n",
       "      <td>NonLowPoint</td>\n",
       "    </tr>\n",
       "    <tr>\n",
       "      <th>1</th>\n",
       "      <td>101992693</td>\n",
       "      <td>NonLowPoint</td>\n",
       "    </tr>\n",
       "    <tr>\n",
       "      <th>2</th>\n",
       "      <td>102008405</td>\n",
       "      <td>NonLowPoint</td>\n",
       "    </tr>\n",
       "    <tr>\n",
       "      <th>3</th>\n",
       "      <td>101992702</td>\n",
       "      <td>NonLowPoint</td>\n",
       "    </tr>\n",
       "    <tr>\n",
       "      <th>4</th>\n",
       "      <td>102228537</td>\n",
       "      <td>NonLowPoint</td>\n",
       "    </tr>\n",
       "  </tbody>\n",
       "</table>\n",
       "</div>"
      ],
      "text/plain": [
       "  RTL_STORE_CD     BEERTYPE\n",
       "0    102523621  NonLowPoint\n",
       "1    101992693  NonLowPoint\n",
       "2    102008405  NonLowPoint\n",
       "3    101992702  NonLowPoint\n",
       "4    102228537  NonLowPoint"
      ]
     },
     "execution_count": 18,
     "metadata": {},
     "output_type": "execute_result"
    }
   ],
   "source": [
    "StoresClass.head()"
   ]
  },
  {
   "cell_type": "code",
   "execution_count": 19,
   "metadata": {
    "collapsed": true
   },
   "outputs": [],
   "source": [
    "#Merge Class with Store Data for regression\n",
    "RegressionData = pd.merge(Stores, StoresClass, left_on='STORE_CD', right_on=\"RTL_STORE_CD\", how=\"left\")\n",
    "RegressionData.loc[RegressionData['BEERTYPE'].isnull(),\"BEERTYPE\"] = \"LowPoint\""
   ]
  },
  {
   "cell_type": "code",
   "execution_count": 20,
   "metadata": {},
   "outputs": [
    {
     "data": {
      "text/html": [
       "<div>\n",
       "<style>\n",
       "    .dataframe thead tr:only-child th {\n",
       "        text-align: right;\n",
       "    }\n",
       "\n",
       "    .dataframe thead th {\n",
       "        text-align: left;\n",
       "    }\n",
       "\n",
       "    .dataframe tbody tr th {\n",
       "        vertical-align: top;\n",
       "    }\n",
       "</style>\n",
       "<table border=\"1\" class=\"dataframe\">\n",
       "  <thead>\n",
       "    <tr style=\"text-align: right;\">\n",
       "      <th></th>\n",
       "      <th>STORE_CD</th>\n",
       "      <th>L12M_TY_QTY</th>\n",
       "      <th>PREMISE_TYPE_DSC</th>\n",
       "      <th>CHANNEL_DSC</th>\n",
       "      <th>SUBCHANNEL_DSC</th>\n",
       "      <th>NO_OF_STORES_DSC</th>\n",
       "      <th>FOOD_TYPE_GROUP_DSC</th>\n",
       "      <th>INDUSTRY_VOL_DSC</th>\n",
       "      <th>PATRON_ETHNICITY_DSC</th>\n",
       "      <th>PATRON_OCCUPATION_DSC</th>\n",
       "      <th>...</th>\n",
       "      <th>FEMALE_POP_2124_PCT</th>\n",
       "      <th>FEMALE_POP_2534_PCT</th>\n",
       "      <th>FEMALE_POP_3544_PCT</th>\n",
       "      <th>FEMALE_POP_4554_PCT</th>\n",
       "      <th>FEMALE_POP_5564_PCT</th>\n",
       "      <th>FEMALE_POP_6574_PCT</th>\n",
       "      <th>FEMALE_POP_75_PCT</th>\n",
       "      <th>CLUSTER</th>\n",
       "      <th>RTL_STORE_CD</th>\n",
       "      <th>BEERTYPE</th>\n",
       "    </tr>\n",
       "  </thead>\n",
       "  <tbody>\n",
       "    <tr>\n",
       "      <th>0</th>\n",
       "      <td>102229771</td>\n",
       "      <td>77.9998</td>\n",
       "      <td>OFF PREMISE</td>\n",
       "      <td>CONVENIENCE STORE</td>\n",
       "      <td>CONVENTIONAL CONVENIENCE</td>\n",
       "      <td>1 STORE</td>\n",
       "      <td>OTHER</td>\n",
       "      <td>MID 30% ON/ MID 60% OFF</td>\n",
       "      <td>GENERAL POPULATION</td>\n",
       "      <td>WHITE COLLAR</td>\n",
       "      <td>...</td>\n",
       "      <td>0.0238</td>\n",
       "      <td>0.0549</td>\n",
       "      <td>0.0553</td>\n",
       "      <td>0.0614</td>\n",
       "      <td>0.0756</td>\n",
       "      <td>0.0588</td>\n",
       "      <td>0.0347</td>\n",
       "      <td>5</td>\n",
       "      <td>NaN</td>\n",
       "      <td>LowPoint</td>\n",
       "    </tr>\n",
       "    <tr>\n",
       "      <th>1</th>\n",
       "      <td>101973306</td>\n",
       "      <td>0.0000</td>\n",
       "      <td>ON PREMISE</td>\n",
       "      <td>DINING</td>\n",
       "      <td>CASUAL DINING</td>\n",
       "      <td>1 STORE</td>\n",
       "      <td>MEXICAN</td>\n",
       "      <td>LOWEST 20% ON/ LOWEST 20% OFF</td>\n",
       "      <td>GENERAL POPULATION</td>\n",
       "      <td>WHITE COLLAR</td>\n",
       "      <td>...</td>\n",
       "      <td>0.0240</td>\n",
       "      <td>0.0624</td>\n",
       "      <td>0.0639</td>\n",
       "      <td>0.0651</td>\n",
       "      <td>0.0697</td>\n",
       "      <td>0.0537</td>\n",
       "      <td>0.0373</td>\n",
       "      <td>5</td>\n",
       "      <td>NaN</td>\n",
       "      <td>LowPoint</td>\n",
       "    </tr>\n",
       "    <tr>\n",
       "      <th>2</th>\n",
       "      <td>101411860</td>\n",
       "      <td>0.0000</td>\n",
       "      <td>OFF PREMISE</td>\n",
       "      <td>LIQUOR</td>\n",
       "      <td>CONVENTIONAL LIQUOR</td>\n",
       "      <td>1 STORE</td>\n",
       "      <td>OTHER</td>\n",
       "      <td>LOWEST 20% ON/ LOWEST 20% OFF</td>\n",
       "      <td>GENERAL POPULATION</td>\n",
       "      <td>WHITE COLLAR</td>\n",
       "      <td>...</td>\n",
       "      <td>0.0234</td>\n",
       "      <td>0.0608</td>\n",
       "      <td>0.0562</td>\n",
       "      <td>0.0591</td>\n",
       "      <td>0.0685</td>\n",
       "      <td>0.0589</td>\n",
       "      <td>0.0480</td>\n",
       "      <td>5</td>\n",
       "      <td>NaN</td>\n",
       "      <td>LowPoint</td>\n",
       "    </tr>\n",
       "    <tr>\n",
       "      <th>3</th>\n",
       "      <td>107462381</td>\n",
       "      <td>6.0000</td>\n",
       "      <td>ON PREMISE</td>\n",
       "      <td>DINING</td>\n",
       "      <td>CASUAL DINING</td>\n",
       "      <td>1 STORE</td>\n",
       "      <td>ITALIAN</td>\n",
       "      <td>LOWEST 20% ON/ LOWEST 20% OFF</td>\n",
       "      <td>GENERAL POPULATION</td>\n",
       "      <td>WHITE COLLAR</td>\n",
       "      <td>...</td>\n",
       "      <td>0.0237</td>\n",
       "      <td>0.0653</td>\n",
       "      <td>0.0555</td>\n",
       "      <td>0.0612</td>\n",
       "      <td>0.0720</td>\n",
       "      <td>0.0601</td>\n",
       "      <td>0.0493</td>\n",
       "      <td>5</td>\n",
       "      <td>NaN</td>\n",
       "      <td>LowPoint</td>\n",
       "    </tr>\n",
       "    <tr>\n",
       "      <th>4</th>\n",
       "      <td>201961279</td>\n",
       "      <td>55.0000</td>\n",
       "      <td>ON PREMISE</td>\n",
       "      <td>DINING</td>\n",
       "      <td>CASUAL DINING</td>\n",
       "      <td>1 STORE</td>\n",
       "      <td>MEXICAN</td>\n",
       "      <td>LOWEST 20% ON/ LOWEST 20% OFF</td>\n",
       "      <td>GENERAL POPULATION</td>\n",
       "      <td>UNKNOWN</td>\n",
       "      <td>...</td>\n",
       "      <td>0.0226</td>\n",
       "      <td>0.0881</td>\n",
       "      <td>0.0697</td>\n",
       "      <td>0.0566</td>\n",
       "      <td>0.0667</td>\n",
       "      <td>0.0497</td>\n",
       "      <td>0.0438</td>\n",
       "      <td>5</td>\n",
       "      <td>NaN</td>\n",
       "      <td>LowPoint</td>\n",
       "    </tr>\n",
       "  </tbody>\n",
       "</table>\n",
       "<p>5 rows × 50 columns</p>\n",
       "</div>"
      ],
      "text/plain": [
       "    STORE_CD  L12M_TY_QTY PREMISE_TYPE_DSC        CHANNEL_DSC  \\\n",
       "0  102229771      77.9998      OFF PREMISE  CONVENIENCE STORE   \n",
       "1  101973306       0.0000       ON PREMISE             DINING   \n",
       "2  101411860       0.0000      OFF PREMISE             LIQUOR   \n",
       "3  107462381       6.0000       ON PREMISE             DINING   \n",
       "4  201961279      55.0000       ON PREMISE             DINING   \n",
       "\n",
       "             SUBCHANNEL_DSC NO_OF_STORES_DSC FOOD_TYPE_GROUP_DSC  \\\n",
       "0  CONVENTIONAL CONVENIENCE          1 STORE               OTHER   \n",
       "1             CASUAL DINING          1 STORE             MEXICAN   \n",
       "2       CONVENTIONAL LIQUOR          1 STORE               OTHER   \n",
       "3             CASUAL DINING          1 STORE             ITALIAN   \n",
       "4             CASUAL DINING          1 STORE             MEXICAN   \n",
       "\n",
       "                INDUSTRY_VOL_DSC PATRON_ETHNICITY_DSC PATRON_OCCUPATION_DSC  \\\n",
       "0        MID 30% ON/ MID 60% OFF   GENERAL POPULATION          WHITE COLLAR   \n",
       "1  LOWEST 20% ON/ LOWEST 20% OFF   GENERAL POPULATION          WHITE COLLAR   \n",
       "2  LOWEST 20% ON/ LOWEST 20% OFF   GENERAL POPULATION          WHITE COLLAR   \n",
       "3  LOWEST 20% ON/ LOWEST 20% OFF   GENERAL POPULATION          WHITE COLLAR   \n",
       "4  LOWEST 20% ON/ LOWEST 20% OFF   GENERAL POPULATION               UNKNOWN   \n",
       "\n",
       "     ...    FEMALE_POP_2124_PCT  FEMALE_POP_2534_PCT  FEMALE_POP_3544_PCT  \\\n",
       "0    ...                 0.0238               0.0549               0.0553   \n",
       "1    ...                 0.0240               0.0624               0.0639   \n",
       "2    ...                 0.0234               0.0608               0.0562   \n",
       "3    ...                 0.0237               0.0653               0.0555   \n",
       "4    ...                 0.0226               0.0881               0.0697   \n",
       "\n",
       "   FEMALE_POP_4554_PCT  FEMALE_POP_5564_PCT  FEMALE_POP_6574_PCT  \\\n",
       "0               0.0614               0.0756               0.0588   \n",
       "1               0.0651               0.0697               0.0537   \n",
       "2               0.0591               0.0685               0.0589   \n",
       "3               0.0612               0.0720               0.0601   \n",
       "4               0.0566               0.0667               0.0497   \n",
       "\n",
       "   FEMALE_POP_75_PCT  CLUSTER  RTL_STORE_CD  BEERTYPE  \n",
       "0             0.0347        5           NaN  LowPoint  \n",
       "1             0.0373        5           NaN  LowPoint  \n",
       "2             0.0480        5           NaN  LowPoint  \n",
       "3             0.0493        5           NaN  LowPoint  \n",
       "4             0.0438        5           NaN  LowPoint  \n",
       "\n",
       "[5 rows x 50 columns]"
      ]
     },
     "execution_count": 20,
     "metadata": {},
     "output_type": "execute_result"
    }
   ],
   "source": [
    "RegressionData.head()"
   ]
  },
  {
   "cell_type": "code",
   "execution_count": 21,
   "metadata": {},
   "outputs": [
    {
     "data": {
      "text/plain": [
       "5561"
      ]
     },
     "execution_count": 21,
     "metadata": {},
     "output_type": "execute_result"
    }
   ],
   "source": [
    "len(RegressionData)"
   ]
  },
  {
   "cell_type": "markdown",
   "metadata": {},
   "source": [
    "### Regression controlling for Cluster"
   ]
  },
  {
   "cell_type": "code",
   "execution_count": 22,
   "metadata": {
    "collapsed": true
   },
   "outputs": [],
   "source": [
    "mod = smf.ols(formula='L12M_TY_QTY ~ C(BEERTYPE) + C(PREMISE_TYPE_DSC) + C(CLUSTER)', data=RegressionData)"
   ]
  },
  {
   "cell_type": "code",
   "execution_count": 23,
   "metadata": {},
   "outputs": [
    {
     "name": "stdout",
     "output_type": "stream",
     "text": [
      "                            OLS Regression Results                            \n",
      "==============================================================================\n",
      "Dep. Variable:            L12M_TY_QTY   R-squared:                       0.955\n",
      "Model:                            OLS   Adj. R-squared:                  0.955\n",
      "Method:                 Least Squares   F-statistic:                 1.693e+04\n",
      "Date:                Tue, 27 Jun 2017   Prob (F-statistic):               0.00\n",
      "Time:                        15:35:35   Log-Likelihood:                -34775.\n",
      "No. Observations:                5561   AIC:                         6.957e+04\n",
      "Df Residuals:                    5553   BIC:                         6.962e+04\n",
      "Df Model:                           7                                         \n",
      "Covariance Type:            nonrobust                                         \n",
      "=====================================================================================================\n",
      "                                        coef    std err          t      P>|t|      [0.025      0.975]\n",
      "-----------------------------------------------------------------------------------------------------\n",
      "Intercept                           779.9860      6.156    126.706      0.000     767.918     792.054\n",
      "C(PREMISE_TYPE_DSC)[T.ON PREMISE]   -35.3302      3.762     -9.391      0.000     -42.705     -27.955\n",
      "C(CLUSTER)[T.1]                    4953.3821     32.061    154.500      0.000    4890.531    5016.233\n",
      "C(CLUSTER)[T.2]                    -463.5653      7.335    -63.196      0.000    -477.945    -449.185\n",
      "C(CLUSTER)[T.3]                    1985.9627     17.908    110.898      0.000    1950.856    2021.069\n",
      "C(CLUSTER)[T.4]                     763.3698     10.969     69.592      0.000     741.866     784.874\n",
      "C(CLUSTER)[T.5]                    -721.9839      6.635   -108.810      0.000    -734.992    -708.976\n",
      "C(CLUSTER)[T.6]                    9866.8159     63.231    156.043      0.000    9742.858    9990.774\n",
      "==============================================================================\n",
      "Omnibus:                     3853.695   Durbin-Watson:                   2.061\n",
      "Prob(Omnibus):                  0.000   Jarque-Bera (JB):          1049328.695\n",
      "Skew:                           2.217   Prob(JB):                         0.00\n",
      "Kurtosis:                      70.149   Cond. No.                         49.5\n",
      "==============================================================================\n",
      "\n",
      "Warnings:\n",
      "[1] Standard Errors assume that the covariance matrix of the errors is correctly specified.\n"
     ]
    }
   ],
   "source": [
    "print(mod.fit().summary())"
   ]
  },
  {
   "cell_type": "code",
   "execution_count": 24,
   "metadata": {
    "collapsed": true
   },
   "outputs": [],
   "source": [
    "#Export data to excel\n",
    "RegressionData.to_csv('OklahomaRegressionData.csv')"
   ]
  },
  {
   "cell_type": "markdown",
   "metadata": {
    "collapsed": true
   },
   "source": [
    "## Select Cluster Based on Beertype Proportion"
   ]
  },
  {
   "cell_type": "code",
   "execution_count": 25,
   "metadata": {},
   "outputs": [
    {
     "name": "stdout",
     "output_type": "stream",
     "text": [
      "                            OLS Regression Results                            \n",
      "==============================================================================\n",
      "Dep. Variable:            L12M_TY_QTY   R-squared:                       0.143\n",
      "Model:                            OLS   Adj. R-squared:                  0.142\n",
      "Method:                 Least Squares   F-statistic:                     645.2\n",
      "Date:                Tue, 27 Jun 2017   Prob (F-statistic):          8.51e-132\n",
      "Time:                        15:37:52   Log-Likelihood:                -20203.\n",
      "No. Observations:                3882   AIC:                         4.041e+04\n",
      "Df Residuals:                    3880   BIC:                         4.042e+04\n",
      "Df Model:                           1                                         \n",
      "Covariance Type:            nonrobust                                         \n",
      "=====================================================================================================\n",
      "                                        coef    std err          t      P>|t|      [0.025      0.975]\n",
      "-----------------------------------------------------------------------------------------------------\n",
      "Intercept                            58.3161      0.969     60.172      0.000      56.416      60.216\n",
      "C(PREMISE_TYPE_DSC)[T.ON PREMISE]   -36.0017      1.417    -25.400      0.000     -38.781     -33.223\n",
      "==============================================================================\n",
      "Omnibus:                      554.658   Durbin-Watson:                   1.855\n",
      "Prob(Omnibus):                  0.000   Jarque-Bera (JB):              815.178\n",
      "Skew:                           1.085   Prob(JB):                    9.69e-178\n",
      "Kurtosis:                       3.576   Cond. No.                         2.55\n",
      "==============================================================================\n",
      "\n",
      "Warnings:\n",
      "[1] Standard Errors assume that the covariance matrix of the errors is correctly specified.\n"
     ]
    }
   ],
   "source": [
    "mod2 = smf.ols(formula='L12M_TY_QTY ~ C(BEERTYPE) + C(PREMISE_TYPE_DSC)', data=RegressionData.loc[RegressionData[\"CLUSTER\"]==5,:])\n",
    "print(mod2.fit().summary())"
   ]
  },
  {
   "cell_type": "code",
   "execution_count": null,
   "metadata": {
    "collapsed": true
   },
   "outputs": [],
   "source": []
  }
 ],
 "metadata": {
  "kernelspec": {
   "display_name": "Python 3",
   "language": "python",
   "name": "python3"
  },
  "language_info": {
   "codemirror_mode": {
    "name": "ipython",
    "version": 3
   },
   "file_extension": ".py",
   "mimetype": "text/x-python",
   "name": "python",
   "nbconvert_exporter": "python",
   "pygments_lexer": "ipython3",
   "version": "3.6.1"
  }
 },
 "nbformat": 4,
 "nbformat_minor": 2
}
