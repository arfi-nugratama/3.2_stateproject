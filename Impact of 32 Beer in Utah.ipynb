{
 "cells": [
  {
   "cell_type": "markdown",
   "metadata": {},
   "source": [
    "# Impact of 3.2 Beer in Utah"
   ]
  },
  {
   "cell_type": "code",
   "execution_count": 1,
   "metadata": {
    "collapsed": true
   },
   "outputs": [],
   "source": [
    "# packages used\n",
    "import pandas as pd\n",
    "import numpy as np\n",
    "from sklearn import cluster\n",
    "from sklearn import metrics\n",
    "from sklearn.cluster import KMeans\n",
    "from scipy.spatial.distance import cdist\n",
    "import matplotlib.pyplot as plt\n",
    "import statsmodels.formula.api as smf\n",
    "%matplotlib inline"
   ]
  },
  {
   "cell_type": "markdown",
   "metadata": {},
   "source": [
    "### Load Data"
   ]
  },
  {
   "cell_type": "code",
   "execution_count": 2,
   "metadata": {
    "collapsed": true
   },
   "outputs": [],
   "source": [
    "Stores = pd.read_csv('UtahStoreDataV1.csv')"
   ]
  },
  {
   "cell_type": "markdown",
   "metadata": {},
   "source": [
    "#### Clean Data"
   ]
  },
  {
   "cell_type": "code",
   "execution_count": 3,
   "metadata": {
    "collapsed": true
   },
   "outputs": [],
   "source": [
    "#Remove Stores without Depletion data for the last year (NAs)\n",
    "Stores = Stores.loc[Stores['L12M_TY_QTY'].notnull(),:]\n",
    "\n",
    "#Remove Stores with Negative Depletion data for the last year\n",
    "Stores = Stores.loc[Stores['L12M_TY_QTY'] >= 0,:] \n",
    "\n",
    "#Remove Stores without Demographic data (NAs)\n",
    "Stores = Stores.loc[Stores['MALE_POP_5564_PCT'].notnull(),:] \n",
    "\n",
    "Stores = Stores.reset_index(drop=True)\n",
    "\n",
    "#Change Y and N to 1 and 0\n",
    "Stores['CHAIN_IND_FLG'] = Stores['CHAIN_IND_FLG']=='Y'\n",
    "Stores['FRANCHISE_FLG'] = Stores['FRANCHISE_FLG']=='Y'\n",
    "Stores['BEER_FLG'] = Stores['BEER_FLG']=='Y'\n",
    "Stores['WINE_FLG'] = Stores['WINE_FLG']=='Y'\n",
    "Stores['LIQUOR_FLG'] = Stores['LIQUOR_FLG']=='Y'\n",
    "Stores['FINE_WINE_FLG'] = Stores['FINE_WINE_FLG']=='Y'\n",
    "\n",
    "Stores['STORE_CD'] = Stores['STORE_CD'].astype(str)"
   ]
  },
  {
   "cell_type": "code",
   "execution_count": 4,
   "metadata": {},
   "outputs": [
    {
     "data": {
      "text/html": [
       "<div>\n",
       "<style>\n",
       "    .dataframe thead tr:only-child th {\n",
       "        text-align: right;\n",
       "    }\n",
       "\n",
       "    .dataframe thead th {\n",
       "        text-align: left;\n",
       "    }\n",
       "\n",
       "    .dataframe tbody tr th {\n",
       "        vertical-align: top;\n",
       "    }\n",
       "</style>\n",
       "<table border=\"1\" class=\"dataframe\">\n",
       "  <thead>\n",
       "    <tr style=\"text-align: right;\">\n",
       "      <th></th>\n",
       "      <th>STORE_CD</th>\n",
       "      <th>L12M_TY_QTY</th>\n",
       "      <th>PREMISE_TYPE_DSC</th>\n",
       "      <th>CHANNEL_DSC</th>\n",
       "      <th>SUBCHANNEL_DSC</th>\n",
       "      <th>NO_OF_STORES_DSC</th>\n",
       "      <th>FOOD_TYPE_GROUP_DSC</th>\n",
       "      <th>INDUSTRY_VOL_DSC</th>\n",
       "      <th>PATRON_ETHNICITY_DSC</th>\n",
       "      <th>PATRON_OCCUPATION_DSC</th>\n",
       "      <th>...</th>\n",
       "      <th>MALE_POP_5564_PCT</th>\n",
       "      <th>MALE_POP_6574_PCT</th>\n",
       "      <th>MALE_POP_75_PCT</th>\n",
       "      <th>FEMALE_POP_2124_PCT</th>\n",
       "      <th>FEMALE_POP_2534_PCT</th>\n",
       "      <th>FEMALE_POP_3544_PCT</th>\n",
       "      <th>FEMALE_POP_4554_PCT</th>\n",
       "      <th>FEMALE_POP_5564_PCT</th>\n",
       "      <th>FEMALE_POP_6574_PCT</th>\n",
       "      <th>FEMALE_POP_75_PCT</th>\n",
       "    </tr>\n",
       "  </thead>\n",
       "  <tbody>\n",
       "    <tr>\n",
       "      <th>0</th>\n",
       "      <td>101988654</td>\n",
       "      <td>6.0000</td>\n",
       "      <td>ON PREMISE</td>\n",
       "      <td>DINING</td>\n",
       "      <td>CASUAL DINING</td>\n",
       "      <td>1 STORE</td>\n",
       "      <td>AMERICAN</td>\n",
       "      <td>LOWEST 20% ON/ LOWEST 20% OFF</td>\n",
       "      <td>GENERAL POPULATION</td>\n",
       "      <td>UNKNOWN</td>\n",
       "      <td>...</td>\n",
       "      <td>0.0609</td>\n",
       "      <td>0.0649</td>\n",
       "      <td>0.0364</td>\n",
       "      <td>0.0231</td>\n",
       "      <td>0.0439</td>\n",
       "      <td>0.0525</td>\n",
       "      <td>0.0573</td>\n",
       "      <td>0.0615</td>\n",
       "      <td>0.0563</td>\n",
       "      <td>0.0384</td>\n",
       "    </tr>\n",
       "    <tr>\n",
       "      <th>1</th>\n",
       "      <td>101778740</td>\n",
       "      <td>755.8337</td>\n",
       "      <td>OFF PREMISE</td>\n",
       "      <td>GROCERY</td>\n",
       "      <td>SUPERCENTER</td>\n",
       "      <td>501+ STORES</td>\n",
       "      <td>OTHER</td>\n",
       "      <td>TOP 50% ON/ TOP 20% OFF</td>\n",
       "      <td>UNKNOWN</td>\n",
       "      <td>UNKNOWN</td>\n",
       "      <td>...</td>\n",
       "      <td>0.0542</td>\n",
       "      <td>0.0432</td>\n",
       "      <td>0.0337</td>\n",
       "      <td>0.0241</td>\n",
       "      <td>0.0566</td>\n",
       "      <td>0.0637</td>\n",
       "      <td>0.0497</td>\n",
       "      <td>0.0565</td>\n",
       "      <td>0.0462</td>\n",
       "      <td>0.0351</td>\n",
       "    </tr>\n",
       "    <tr>\n",
       "      <th>2</th>\n",
       "      <td>100182004</td>\n",
       "      <td>3659.9162</td>\n",
       "      <td>OFF PREMISE</td>\n",
       "      <td>GROCERY</td>\n",
       "      <td>SUPERMARKET-CONVENTIONAL</td>\n",
       "      <td>501+ STORES</td>\n",
       "      <td>OTHER</td>\n",
       "      <td>MID 30% ON/ MID 60% OFF</td>\n",
       "      <td>GENERAL POPULATION</td>\n",
       "      <td>UNKNOWN</td>\n",
       "      <td>...</td>\n",
       "      <td>0.0485</td>\n",
       "      <td>0.0268</td>\n",
       "      <td>0.0144</td>\n",
       "      <td>0.0261</td>\n",
       "      <td>0.0830</td>\n",
       "      <td>0.0714</td>\n",
       "      <td>0.0498</td>\n",
       "      <td>0.0419</td>\n",
       "      <td>0.0271</td>\n",
       "      <td>0.0200</td>\n",
       "    </tr>\n",
       "    <tr>\n",
       "      <th>3</th>\n",
       "      <td>100111725</td>\n",
       "      <td>186.5000</td>\n",
       "      <td>OFF PREMISE</td>\n",
       "      <td>GROCERY</td>\n",
       "      <td>SUPERMARKET-CONVENTIONAL</td>\n",
       "      <td>1 STORE</td>\n",
       "      <td>OTHER</td>\n",
       "      <td>LOWEST 20% ON/ LOWEST 20% OFF</td>\n",
       "      <td>GENERAL POPULATION</td>\n",
       "      <td>UNKNOWN</td>\n",
       "      <td>...</td>\n",
       "      <td>0.0512</td>\n",
       "      <td>0.0354</td>\n",
       "      <td>0.0186</td>\n",
       "      <td>0.0279</td>\n",
       "      <td>0.0628</td>\n",
       "      <td>0.0681</td>\n",
       "      <td>0.0578</td>\n",
       "      <td>0.0506</td>\n",
       "      <td>0.0346</td>\n",
       "      <td>0.0253</td>\n",
       "    </tr>\n",
       "    <tr>\n",
       "      <th>4</th>\n",
       "      <td>200693936</td>\n",
       "      <td>0.0000</td>\n",
       "      <td>OFF PREMISE</td>\n",
       "      <td>CONVENIENCE STORE</td>\n",
       "      <td>CONVENTIONAL CONVENIENCE</td>\n",
       "      <td>1 STORE</td>\n",
       "      <td>OTHER</td>\n",
       "      <td>LOWEST 20% ON/ LOWEST 20% OFF</td>\n",
       "      <td>GENERAL POPULATION</td>\n",
       "      <td>UNKNOWN</td>\n",
       "      <td>...</td>\n",
       "      <td>0.0347</td>\n",
       "      <td>0.0204</td>\n",
       "      <td>0.0123</td>\n",
       "      <td>0.0345</td>\n",
       "      <td>0.0652</td>\n",
       "      <td>0.0707</td>\n",
       "      <td>0.0478</td>\n",
       "      <td>0.0364</td>\n",
       "      <td>0.0221</td>\n",
       "      <td>0.0164</td>\n",
       "    </tr>\n",
       "  </tbody>\n",
       "</table>\n",
       "<p>5 rows × 47 columns</p>\n",
       "</div>"
      ],
      "text/plain": [
       "    STORE_CD  L12M_TY_QTY PREMISE_TYPE_DSC        CHANNEL_DSC  \\\n",
       "0  101988654       6.0000       ON PREMISE             DINING   \n",
       "1  101778740     755.8337      OFF PREMISE            GROCERY   \n",
       "2  100182004    3659.9162      OFF PREMISE            GROCERY   \n",
       "3  100111725     186.5000      OFF PREMISE            GROCERY   \n",
       "4  200693936       0.0000      OFF PREMISE  CONVENIENCE STORE   \n",
       "\n",
       "             SUBCHANNEL_DSC NO_OF_STORES_DSC FOOD_TYPE_GROUP_DSC  \\\n",
       "0             CASUAL DINING          1 STORE            AMERICAN   \n",
       "1               SUPERCENTER      501+ STORES               OTHER   \n",
       "2  SUPERMARKET-CONVENTIONAL      501+ STORES               OTHER   \n",
       "3  SUPERMARKET-CONVENTIONAL          1 STORE               OTHER   \n",
       "4  CONVENTIONAL CONVENIENCE          1 STORE               OTHER   \n",
       "\n",
       "                INDUSTRY_VOL_DSC PATRON_ETHNICITY_DSC PATRON_OCCUPATION_DSC  \\\n",
       "0  LOWEST 20% ON/ LOWEST 20% OFF   GENERAL POPULATION               UNKNOWN   \n",
       "1        TOP 50% ON/ TOP 20% OFF              UNKNOWN               UNKNOWN   \n",
       "2        MID 30% ON/ MID 60% OFF   GENERAL POPULATION               UNKNOWN   \n",
       "3  LOWEST 20% ON/ LOWEST 20% OFF   GENERAL POPULATION               UNKNOWN   \n",
       "4  LOWEST 20% ON/ LOWEST 20% OFF   GENERAL POPULATION               UNKNOWN   \n",
       "\n",
       "         ...         MALE_POP_5564_PCT  MALE_POP_6574_PCT  MALE_POP_75_PCT  \\\n",
       "0        ...                    0.0609             0.0649           0.0364   \n",
       "1        ...                    0.0542             0.0432           0.0337   \n",
       "2        ...                    0.0485             0.0268           0.0144   \n",
       "3        ...                    0.0512             0.0354           0.0186   \n",
       "4        ...                    0.0347             0.0204           0.0123   \n",
       "\n",
       "   FEMALE_POP_2124_PCT  FEMALE_POP_2534_PCT  FEMALE_POP_3544_PCT  \\\n",
       "0               0.0231               0.0439               0.0525   \n",
       "1               0.0241               0.0566               0.0637   \n",
       "2               0.0261               0.0830               0.0714   \n",
       "3               0.0279               0.0628               0.0681   \n",
       "4               0.0345               0.0652               0.0707   \n",
       "\n",
       "   FEMALE_POP_4554_PCT  FEMALE_POP_5564_PCT  FEMALE_POP_6574_PCT  \\\n",
       "0               0.0573               0.0615               0.0563   \n",
       "1               0.0497               0.0565               0.0462   \n",
       "2               0.0498               0.0419               0.0271   \n",
       "3               0.0578               0.0506               0.0346   \n",
       "4               0.0478               0.0364               0.0221   \n",
       "\n",
       "   FEMALE_POP_75_PCT  \n",
       "0             0.0384  \n",
       "1             0.0351  \n",
       "2             0.0200  \n",
       "3             0.0253  \n",
       "4             0.0164  \n",
       "\n",
       "[5 rows x 47 columns]"
      ]
     },
     "execution_count": 4,
     "metadata": {},
     "output_type": "execute_result"
    }
   ],
   "source": [
    "Stores.head()"
   ]
  },
  {
   "cell_type": "code",
   "execution_count": 5,
   "metadata": {},
   "outputs": [
    {
     "data": {
      "text/plain": [
       "2320"
      ]
     },
     "execution_count": 5,
     "metadata": {},
     "output_type": "execute_result"
    }
   ],
   "source": [
    "#Number of Stores\n",
    "len(Stores)"
   ]
  },
  {
   "cell_type": "markdown",
   "metadata": {},
   "source": [
    "### Data Preprocessing"
   ]
  },
  {
   "cell_type": "code",
   "execution_count": 6,
   "metadata": {
    "collapsed": true
   },
   "outputs": [],
   "source": [
    "#Binarize function\n",
    "def binarize(dataframe , column):\n",
    "    dataframe = pd.concat([dataframe ,pd.get_dummies(dataframe[column] , prefix = ['B_'+c for c in column])] , axis = 1)\n",
    "    return(dataframe)"
   ]
  },
  {
   "cell_type": "code",
   "execution_count": 7,
   "metadata": {
    "collapsed": true
   },
   "outputs": [],
   "source": [
    "#Get Dummies\n",
    "DummiesColumns = ['PREMISE_TYPE_DSC','CHANNEL_DSC','SUBCHANNEL_DSC','NO_OF_STORES_DSC','FOOD_TYPE_GROUP_DSC','INDUSTRY_VOL_DSC',\n",
    "                 'PATRON_ETHNICITY_DSC','PATRON_OCCUPATION_DSC','PATRON_AGE_DSC']\n",
    "StoresC = binarize(Stores, DummiesColumns)"
   ]
  },
  {
   "cell_type": "code",
   "execution_count": 8,
   "metadata": {
    "collapsed": true
   },
   "outputs": [],
   "source": [
    "# prepare data to fit model\n",
    "X_labels = [c for c in StoresC.columns if c not in ['PREMISE_TYPE_DSC','CHANNEL_DSC','SUBCHANNEL_DSC','NO_OF_STORES_DSC',\n",
    "                                                     'FOOD_TYPE_GROUP_DSC','INDUSTRY_VOL_DSC','PATRON_ETHNICITY_DSC',\n",
    "                                                     'PATRON_OCCUPATION_DSC','PATRON_AGE_DSC','STORE_CD']]\n",
    "X = StoresC.loc[:,X_labels]"
   ]
  },
  {
   "cell_type": "code",
   "execution_count": 9,
   "metadata": {},
   "outputs": [
    {
     "data": {
      "text/html": [
       "<div>\n",
       "<style>\n",
       "    .dataframe thead tr:only-child th {\n",
       "        text-align: right;\n",
       "    }\n",
       "\n",
       "    .dataframe thead th {\n",
       "        text-align: left;\n",
       "    }\n",
       "\n",
       "    .dataframe tbody tr th {\n",
       "        vertical-align: top;\n",
       "    }\n",
       "</style>\n",
       "<table border=\"1\" class=\"dataframe\">\n",
       "  <thead>\n",
       "    <tr style=\"text-align: right;\">\n",
       "      <th></th>\n",
       "      <th>L12M_TY_QTY</th>\n",
       "      <th>CHAIN_IND_FLG</th>\n",
       "      <th>FRANCHISE_FLG</th>\n",
       "      <th>BEER_FLG</th>\n",
       "      <th>WINE_FLG</th>\n",
       "      <th>LIQUOR_FLG</th>\n",
       "      <th>FINE_WINE_FLG</th>\n",
       "      <th>WHITE_POP_PCT</th>\n",
       "      <th>BLACK_POP_PCT</th>\n",
       "      <th>ASIAN_POP_PCT</th>\n",
       "      <th>...</th>\n",
       "      <th>B_PATRON_ETHNICITY_DSC_HISPANIC (GENERAL)</th>\n",
       "      <th>B_PATRON_ETHNICITY_DSC_UNKNOWN</th>\n",
       "      <th>B_PATRON_OCCUPATION_DSC_BLUE COLLAR</th>\n",
       "      <th>B_PATRON_OCCUPATION_DSC_COLLEGE</th>\n",
       "      <th>B_PATRON_OCCUPATION_DSC_OTHER</th>\n",
       "      <th>B_PATRON_OCCUPATION_DSC_UNKNOWN</th>\n",
       "      <th>B_PATRON_OCCUPATION_DSC_WHITE COLLAR</th>\n",
       "      <th>B_PATRON_AGE_DSC_GENERAL POPULATION</th>\n",
       "      <th>B_PATRON_AGE_DSC_UNKNOWN</th>\n",
       "      <th>B_PATRON_AGE_DSC_YOUNG ADULT (21-28)</th>\n",
       "    </tr>\n",
       "  </thead>\n",
       "  <tbody>\n",
       "    <tr>\n",
       "      <th>0</th>\n",
       "      <td>6.0000</td>\n",
       "      <td>False</td>\n",
       "      <td>False</td>\n",
       "      <td>True</td>\n",
       "      <td>True</td>\n",
       "      <td>False</td>\n",
       "      <td>False</td>\n",
       "      <td>0.9271</td>\n",
       "      <td>0.0029</td>\n",
       "      <td>0.0102</td>\n",
       "      <td>...</td>\n",
       "      <td>0</td>\n",
       "      <td>0</td>\n",
       "      <td>0</td>\n",
       "      <td>0</td>\n",
       "      <td>0</td>\n",
       "      <td>1</td>\n",
       "      <td>0</td>\n",
       "      <td>1</td>\n",
       "      <td>0</td>\n",
       "      <td>0</td>\n",
       "    </tr>\n",
       "    <tr>\n",
       "      <th>1</th>\n",
       "      <td>755.8337</td>\n",
       "      <td>True</td>\n",
       "      <td>False</td>\n",
       "      <td>True</td>\n",
       "      <td>False</td>\n",
       "      <td>False</td>\n",
       "      <td>False</td>\n",
       "      <td>0.9405</td>\n",
       "      <td>0.0010</td>\n",
       "      <td>0.0041</td>\n",
       "      <td>...</td>\n",
       "      <td>0</td>\n",
       "      <td>1</td>\n",
       "      <td>0</td>\n",
       "      <td>0</td>\n",
       "      <td>0</td>\n",
       "      <td>1</td>\n",
       "      <td>0</td>\n",
       "      <td>1</td>\n",
       "      <td>0</td>\n",
       "      <td>0</td>\n",
       "    </tr>\n",
       "    <tr>\n",
       "      <th>2</th>\n",
       "      <td>3659.9162</td>\n",
       "      <td>True</td>\n",
       "      <td>False</td>\n",
       "      <td>True</td>\n",
       "      <td>False</td>\n",
       "      <td>False</td>\n",
       "      <td>False</td>\n",
       "      <td>0.4940</td>\n",
       "      <td>0.0325</td>\n",
       "      <td>0.0839</td>\n",
       "      <td>...</td>\n",
       "      <td>0</td>\n",
       "      <td>0</td>\n",
       "      <td>0</td>\n",
       "      <td>0</td>\n",
       "      <td>0</td>\n",
       "      <td>1</td>\n",
       "      <td>0</td>\n",
       "      <td>1</td>\n",
       "      <td>0</td>\n",
       "      <td>0</td>\n",
       "    </tr>\n",
       "    <tr>\n",
       "      <th>3</th>\n",
       "      <td>186.5000</td>\n",
       "      <td>False</td>\n",
       "      <td>False</td>\n",
       "      <td>True</td>\n",
       "      <td>False</td>\n",
       "      <td>False</td>\n",
       "      <td>False</td>\n",
       "      <td>0.9224</td>\n",
       "      <td>0.0007</td>\n",
       "      <td>0.0050</td>\n",
       "      <td>...</td>\n",
       "      <td>0</td>\n",
       "      <td>0</td>\n",
       "      <td>0</td>\n",
       "      <td>0</td>\n",
       "      <td>0</td>\n",
       "      <td>1</td>\n",
       "      <td>0</td>\n",
       "      <td>1</td>\n",
       "      <td>0</td>\n",
       "      <td>0</td>\n",
       "    </tr>\n",
       "    <tr>\n",
       "      <th>4</th>\n",
       "      <td>0.0000</td>\n",
       "      <td>False</td>\n",
       "      <td>False</td>\n",
       "      <td>True</td>\n",
       "      <td>False</td>\n",
       "      <td>False</td>\n",
       "      <td>False</td>\n",
       "      <td>0.8636</td>\n",
       "      <td>0.0027</td>\n",
       "      <td>0.0156</td>\n",
       "      <td>...</td>\n",
       "      <td>0</td>\n",
       "      <td>0</td>\n",
       "      <td>0</td>\n",
       "      <td>0</td>\n",
       "      <td>0</td>\n",
       "      <td>1</td>\n",
       "      <td>0</td>\n",
       "      <td>1</td>\n",
       "      <td>0</td>\n",
       "      <td>0</td>\n",
       "    </tr>\n",
       "  </tbody>\n",
       "</table>\n",
       "<p>5 rows × 117 columns</p>\n",
       "</div>"
      ],
      "text/plain": [
       "   L12M_TY_QTY  CHAIN_IND_FLG  FRANCHISE_FLG  BEER_FLG  WINE_FLG  LIQUOR_FLG  \\\n",
       "0       6.0000          False          False      True      True       False   \n",
       "1     755.8337           True          False      True     False       False   \n",
       "2    3659.9162           True          False      True     False       False   \n",
       "3     186.5000          False          False      True     False       False   \n",
       "4       0.0000          False          False      True     False       False   \n",
       "\n",
       "   FINE_WINE_FLG  WHITE_POP_PCT  BLACK_POP_PCT  ASIAN_POP_PCT  \\\n",
       "0          False         0.9271         0.0029         0.0102   \n",
       "1          False         0.9405         0.0010         0.0041   \n",
       "2          False         0.4940         0.0325         0.0839   \n",
       "3          False         0.9224         0.0007         0.0050   \n",
       "4          False         0.8636         0.0027         0.0156   \n",
       "\n",
       "                   ...                   \\\n",
       "0                  ...                    \n",
       "1                  ...                    \n",
       "2                  ...                    \n",
       "3                  ...                    \n",
       "4                  ...                    \n",
       "\n",
       "   B_PATRON_ETHNICITY_DSC_HISPANIC (GENERAL)  B_PATRON_ETHNICITY_DSC_UNKNOWN  \\\n",
       "0                                          0                               0   \n",
       "1                                          0                               1   \n",
       "2                                          0                               0   \n",
       "3                                          0                               0   \n",
       "4                                          0                               0   \n",
       "\n",
       "   B_PATRON_OCCUPATION_DSC_BLUE COLLAR  B_PATRON_OCCUPATION_DSC_COLLEGE  \\\n",
       "0                                    0                                0   \n",
       "1                                    0                                0   \n",
       "2                                    0                                0   \n",
       "3                                    0                                0   \n",
       "4                                    0                                0   \n",
       "\n",
       "   B_PATRON_OCCUPATION_DSC_OTHER  B_PATRON_OCCUPATION_DSC_UNKNOWN  \\\n",
       "0                              0                                1   \n",
       "1                              0                                1   \n",
       "2                              0                                1   \n",
       "3                              0                                1   \n",
       "4                              0                                1   \n",
       "\n",
       "   B_PATRON_OCCUPATION_DSC_WHITE COLLAR  B_PATRON_AGE_DSC_GENERAL POPULATION  \\\n",
       "0                                     0                                    1   \n",
       "1                                     0                                    1   \n",
       "2                                     0                                    1   \n",
       "3                                     0                                    1   \n",
       "4                                     0                                    1   \n",
       "\n",
       "   B_PATRON_AGE_DSC_UNKNOWN  B_PATRON_AGE_DSC_YOUNG ADULT (21-28)  \n",
       "0                         0                                     0  \n",
       "1                         0                                     0  \n",
       "2                         0                                     0  \n",
       "3                         0                                     0  \n",
       "4                         0                                     0  \n",
       "\n",
       "[5 rows x 117 columns]"
      ]
     },
     "execution_count": 9,
     "metadata": {},
     "output_type": "execute_result"
    }
   ],
   "source": [
    "X.head()"
   ]
  },
  {
   "cell_type": "markdown",
   "metadata": {},
   "source": [
    "## Clustering"
   ]
  },
  {
   "cell_type": "markdown",
   "metadata": {},
   "source": [
    "### Choose number of Clusters"
   ]
  },
  {
   "cell_type": "code",
   "execution_count": 10,
   "metadata": {
    "collapsed": true
   },
   "outputs": [],
   "source": [
    "#Elbow Method\n",
    "K = range(1, 40)\n",
    "meandistortions = []\n",
    "for k in K:\n",
    "    kmeans = KMeans(n_clusters=k, n_jobs = -2)\n",
    "    kmeans.fit(X)\n",
    "    meandistortions.append(sum(np.min(cdist(X, kmeans.cluster_centers_, 'euclidean'), axis=1)) / X.shape[0])"
   ]
  },
  {
   "cell_type": "code",
   "execution_count": 11,
   "metadata": {},
   "outputs": [
    {
     "data": {
      "image/png": "[encoded data removed]",
      "text/plain": [
       "<matplotlib.figure.Figure at 0xbd40710>"
      ]
     },
     "metadata": {},
     "output_type": "display_data"
    }
   ],
   "source": [
    "plt.plot(K, meandistortions, 'bx-')\n",
    "plt.xlabel('k')\n",
    "plt.ylabel('Average distortion')\n",
    "plt.title('Selecting k with the Elbow Method')\n",
    "plt.show()"
   ]
  },
  {
   "cell_type": "code",
   "execution_count": 12,
   "metadata": {
    "collapsed": true
   },
   "outputs": [],
   "source": [
    "#Tunned Elbow Method\n",
    "K = range(1, 20)\n",
    "meandistortions = []\n",
    "for k in K:\n",
    "    kmeans = KMeans(n_clusters=k, n_jobs = -2)\n",
    "    kmeans.fit(X)\n",
    "    meandistortions.append(sum(np.min(cdist(X, kmeans.cluster_centers_, 'euclidean'), axis=1)) / X.shape[0])"
   ]
  },
  {
   "cell_type": "code",
   "execution_count": 13,
   "metadata": {},
   "outputs": [
    {
     "data": {
      "image/png": "[encoded data removed]",
      "text/plain": [
       "<matplotlib.figure.Figure at 0xc0d3048>"
      ]
     },
     "metadata": {},
     "output_type": "display_data"
    }
   ],
   "source": [
    "plt.plot(K, meandistortions, 'bx-')\n",
    "plt.xlabel('k')\n",
    "plt.ylabel('Average distortion')\n",
    "plt.title('Selecting k with the Elbow Method')\n",
    "plt.show()"
   ]
  },
  {
   "cell_type": "code",
   "execution_count": 14,
   "metadata": {},
   "outputs": [],
   "source": [
    "#Silhouette_score\n",
    "#results = []\n",
    "#NumberClusters = range(2,10,1)\n",
    "#for k in NumberClusters:\n",
    "#    kmeans_model = cluster.KMeans(n_clusters=k, random_state=1).fit(X)\n",
    "#    labels = kmeans_model.labels_\n",
    "#    score = metrics.silhouette_score(X, labels, metric='euclidean')\n",
    "#    results.append((k,score))\n",
    "\n",
    "#Clustering_Score = pd.DataFrame(data=results,columns=['NumberOfClusters','silhouette_score'])\n",
    "#Clustering_Score"
   ]
  },
  {
   "cell_type": "code",
   "execution_count": 15,
   "metadata": {
    "collapsed": true
   },
   "outputs": [],
   "source": [
    "#Cluster the Data\n",
    "kmeans_model = cluster.KMeans(n_clusters=6, random_state=1, n_jobs = -2).fit(X)\n",
    "labels = kmeans_model.labels_"
   ]
  },
  {
   "cell_type": "code",
   "execution_count": 16,
   "metadata": {
    "collapsed": true
   },
   "outputs": [],
   "source": [
    "#Assign Cluster to Data\n",
    "Stores['CLUSTER'] = labels"
   ]
  },
  {
   "cell_type": "markdown",
   "metadata": {
    "collapsed": true
   },
   "source": [
    "## Regression Analysis"
   ]
  },
  {
   "cell_type": "code",
   "execution_count": 17,
   "metadata": {
    "collapsed": true
   },
   "outputs": [],
   "source": [
    "#Load classification data\n",
    "StoresClass = pd.read_csv('NonLowPointStoresUtah.csv', dtype = str)"
   ]
  },
  {
   "cell_type": "code",
   "execution_count": 18,
   "metadata": {},
   "outputs": [
    {
     "data": {
      "text/html": [
       "<div>\n",
       "<style>\n",
       "    .dataframe thead tr:only-child th {\n",
       "        text-align: right;\n",
       "    }\n",
       "\n",
       "    .dataframe thead th {\n",
       "        text-align: left;\n",
       "    }\n",
       "\n",
       "    .dataframe tbody tr th {\n",
       "        vertical-align: top;\n",
       "    }\n",
       "</style>\n",
       "<table border=\"1\" class=\"dataframe\">\n",
       "  <thead>\n",
       "    <tr style=\"text-align: right;\">\n",
       "      <th></th>\n",
       "      <th>RTL_STORE_CD</th>\n",
       "      <th>BEERTYPE</th>\n",
       "    </tr>\n",
       "  </thead>\n",
       "  <tbody>\n",
       "    <tr>\n",
       "      <th>0</th>\n",
       "      <td>101415037</td>\n",
       "      <td>NonLowPoint</td>\n",
       "    </tr>\n",
       "    <tr>\n",
       "      <th>1</th>\n",
       "      <td>201880474</td>\n",
       "      <td>NonLowPoint</td>\n",
       "    </tr>\n",
       "    <tr>\n",
       "      <th>2</th>\n",
       "      <td>101415040</td>\n",
       "      <td>NonLowPoint</td>\n",
       "    </tr>\n",
       "    <tr>\n",
       "      <th>3</th>\n",
       "      <td>101415045</td>\n",
       "      <td>NonLowPoint</td>\n",
       "    </tr>\n",
       "    <tr>\n",
       "      <th>4</th>\n",
       "      <td>103755213</td>\n",
       "      <td>NonLowPoint</td>\n",
       "    </tr>\n",
       "  </tbody>\n",
       "</table>\n",
       "</div>"
      ],
      "text/plain": [
       "  RTL_STORE_CD     BEERTYPE\n",
       "0    101415037  NonLowPoint\n",
       "1    201880474  NonLowPoint\n",
       "2    101415040  NonLowPoint\n",
       "3    101415045  NonLowPoint\n",
       "4    103755213  NonLowPoint"
      ]
     },
     "execution_count": 18,
     "metadata": {},
     "output_type": "execute_result"
    }
   ],
   "source": [
    "StoresClass.head()"
   ]
  },
  {
   "cell_type": "code",
   "execution_count": 19,
   "metadata": {
    "collapsed": true
   },
   "outputs": [],
   "source": [
    "#Merge Class with Store Data for regression\n",
    "RegressionData = pd.merge(Stores, StoresClass, left_on='STORE_CD', right_on=\"RTL_STORE_CD\", how=\"left\")\n",
    "RegressionData.loc[RegressionData['BEERTYPE'].isnull(),\"BEERTYPE\"] = \"LowPoint\""
   ]
  },
  {
   "cell_type": "code",
   "execution_count": 20,
   "metadata": {},
   "outputs": [
    {
     "data": {
      "text/html": [
       "<div>\n",
       "<style>\n",
       "    .dataframe thead tr:only-child th {\n",
       "        text-align: right;\n",
       "    }\n",
       "\n",
       "    .dataframe thead th {\n",
       "        text-align: left;\n",
       "    }\n",
       "\n",
       "    .dataframe tbody tr th {\n",
       "        vertical-align: top;\n",
       "    }\n",
       "</style>\n",
       "<table border=\"1\" class=\"dataframe\">\n",
       "  <thead>\n",
       "    <tr style=\"text-align: right;\">\n",
       "      <th></th>\n",
       "      <th>STORE_CD</th>\n",
       "      <th>L12M_TY_QTY</th>\n",
       "      <th>PREMISE_TYPE_DSC</th>\n",
       "      <th>CHANNEL_DSC</th>\n",
       "      <th>SUBCHANNEL_DSC</th>\n",
       "      <th>NO_OF_STORES_DSC</th>\n",
       "      <th>FOOD_TYPE_GROUP_DSC</th>\n",
       "      <th>INDUSTRY_VOL_DSC</th>\n",
       "      <th>PATRON_ETHNICITY_DSC</th>\n",
       "      <th>PATRON_OCCUPATION_DSC</th>\n",
       "      <th>...</th>\n",
       "      <th>FEMALE_POP_2124_PCT</th>\n",
       "      <th>FEMALE_POP_2534_PCT</th>\n",
       "      <th>FEMALE_POP_3544_PCT</th>\n",
       "      <th>FEMALE_POP_4554_PCT</th>\n",
       "      <th>FEMALE_POP_5564_PCT</th>\n",
       "      <th>FEMALE_POP_6574_PCT</th>\n",
       "      <th>FEMALE_POP_75_PCT</th>\n",
       "      <th>CLUSTER</th>\n",
       "      <th>RTL_STORE_CD</th>\n",
       "      <th>BEERTYPE</th>\n",
       "    </tr>\n",
       "  </thead>\n",
       "  <tbody>\n",
       "    <tr>\n",
       "      <th>0</th>\n",
       "      <td>101988654</td>\n",
       "      <td>6.0000</td>\n",
       "      <td>ON PREMISE</td>\n",
       "      <td>DINING</td>\n",
       "      <td>CASUAL DINING</td>\n",
       "      <td>1 STORE</td>\n",
       "      <td>AMERICAN</td>\n",
       "      <td>LOWEST 20% ON/ LOWEST 20% OFF</td>\n",
       "      <td>GENERAL POPULATION</td>\n",
       "      <td>UNKNOWN</td>\n",
       "      <td>...</td>\n",
       "      <td>0.0231</td>\n",
       "      <td>0.0439</td>\n",
       "      <td>0.0525</td>\n",
       "      <td>0.0573</td>\n",
       "      <td>0.0615</td>\n",
       "      <td>0.0563</td>\n",
       "      <td>0.0384</td>\n",
       "      <td>5</td>\n",
       "      <td>NaN</td>\n",
       "      <td>LowPoint</td>\n",
       "    </tr>\n",
       "    <tr>\n",
       "      <th>1</th>\n",
       "      <td>101778740</td>\n",
       "      <td>755.8337</td>\n",
       "      <td>OFF PREMISE</td>\n",
       "      <td>GROCERY</td>\n",
       "      <td>SUPERCENTER</td>\n",
       "      <td>501+ STORES</td>\n",
       "      <td>OTHER</td>\n",
       "      <td>TOP 50% ON/ TOP 20% OFF</td>\n",
       "      <td>UNKNOWN</td>\n",
       "      <td>UNKNOWN</td>\n",
       "      <td>...</td>\n",
       "      <td>0.0241</td>\n",
       "      <td>0.0566</td>\n",
       "      <td>0.0637</td>\n",
       "      <td>0.0497</td>\n",
       "      <td>0.0565</td>\n",
       "      <td>0.0462</td>\n",
       "      <td>0.0351</td>\n",
       "      <td>1</td>\n",
       "      <td>NaN</td>\n",
       "      <td>LowPoint</td>\n",
       "    </tr>\n",
       "    <tr>\n",
       "      <th>2</th>\n",
       "      <td>100182004</td>\n",
       "      <td>3659.9162</td>\n",
       "      <td>OFF PREMISE</td>\n",
       "      <td>GROCERY</td>\n",
       "      <td>SUPERMARKET-CONVENTIONAL</td>\n",
       "      <td>501+ STORES</td>\n",
       "      <td>OTHER</td>\n",
       "      <td>MID 30% ON/ MID 60% OFF</td>\n",
       "      <td>GENERAL POPULATION</td>\n",
       "      <td>UNKNOWN</td>\n",
       "      <td>...</td>\n",
       "      <td>0.0261</td>\n",
       "      <td>0.0830</td>\n",
       "      <td>0.0714</td>\n",
       "      <td>0.0498</td>\n",
       "      <td>0.0419</td>\n",
       "      <td>0.0271</td>\n",
       "      <td>0.0200</td>\n",
       "      <td>3</td>\n",
       "      <td>NaN</td>\n",
       "      <td>LowPoint</td>\n",
       "    </tr>\n",
       "    <tr>\n",
       "      <th>3</th>\n",
       "      <td>100111725</td>\n",
       "      <td>186.5000</td>\n",
       "      <td>OFF PREMISE</td>\n",
       "      <td>GROCERY</td>\n",
       "      <td>SUPERMARKET-CONVENTIONAL</td>\n",
       "      <td>1 STORE</td>\n",
       "      <td>OTHER</td>\n",
       "      <td>LOWEST 20% ON/ LOWEST 20% OFF</td>\n",
       "      <td>GENERAL POPULATION</td>\n",
       "      <td>UNKNOWN</td>\n",
       "      <td>...</td>\n",
       "      <td>0.0279</td>\n",
       "      <td>0.0628</td>\n",
       "      <td>0.0681</td>\n",
       "      <td>0.0578</td>\n",
       "      <td>0.0506</td>\n",
       "      <td>0.0346</td>\n",
       "      <td>0.0253</td>\n",
       "      <td>5</td>\n",
       "      <td>NaN</td>\n",
       "      <td>LowPoint</td>\n",
       "    </tr>\n",
       "    <tr>\n",
       "      <th>4</th>\n",
       "      <td>200693936</td>\n",
       "      <td>0.0000</td>\n",
       "      <td>OFF PREMISE</td>\n",
       "      <td>CONVENIENCE STORE</td>\n",
       "      <td>CONVENTIONAL CONVENIENCE</td>\n",
       "      <td>1 STORE</td>\n",
       "      <td>OTHER</td>\n",
       "      <td>LOWEST 20% ON/ LOWEST 20% OFF</td>\n",
       "      <td>GENERAL POPULATION</td>\n",
       "      <td>UNKNOWN</td>\n",
       "      <td>...</td>\n",
       "      <td>0.0345</td>\n",
       "      <td>0.0652</td>\n",
       "      <td>0.0707</td>\n",
       "      <td>0.0478</td>\n",
       "      <td>0.0364</td>\n",
       "      <td>0.0221</td>\n",
       "      <td>0.0164</td>\n",
       "      <td>5</td>\n",
       "      <td>NaN</td>\n",
       "      <td>LowPoint</td>\n",
       "    </tr>\n",
       "  </tbody>\n",
       "</table>\n",
       "<p>5 rows × 50 columns</p>\n",
       "</div>"
      ],
      "text/plain": [
       "    STORE_CD  L12M_TY_QTY PREMISE_TYPE_DSC        CHANNEL_DSC  \\\n",
       "0  101988654       6.0000       ON PREMISE             DINING   \n",
       "1  101778740     755.8337      OFF PREMISE            GROCERY   \n",
       "2  100182004    3659.9162      OFF PREMISE            GROCERY   \n",
       "3  100111725     186.5000      OFF PREMISE            GROCERY   \n",
       "4  200693936       0.0000      OFF PREMISE  CONVENIENCE STORE   \n",
       "\n",
       "             SUBCHANNEL_DSC NO_OF_STORES_DSC FOOD_TYPE_GROUP_DSC  \\\n",
       "0             CASUAL DINING          1 STORE            AMERICAN   \n",
       "1               SUPERCENTER      501+ STORES               OTHER   \n",
       "2  SUPERMARKET-CONVENTIONAL      501+ STORES               OTHER   \n",
       "3  SUPERMARKET-CONVENTIONAL          1 STORE               OTHER   \n",
       "4  CONVENTIONAL CONVENIENCE          1 STORE               OTHER   \n",
       "\n",
       "                INDUSTRY_VOL_DSC PATRON_ETHNICITY_DSC PATRON_OCCUPATION_DSC  \\\n",
       "0  LOWEST 20% ON/ LOWEST 20% OFF   GENERAL POPULATION               UNKNOWN   \n",
       "1        TOP 50% ON/ TOP 20% OFF              UNKNOWN               UNKNOWN   \n",
       "2        MID 30% ON/ MID 60% OFF   GENERAL POPULATION               UNKNOWN   \n",
       "3  LOWEST 20% ON/ LOWEST 20% OFF   GENERAL POPULATION               UNKNOWN   \n",
       "4  LOWEST 20% ON/ LOWEST 20% OFF   GENERAL POPULATION               UNKNOWN   \n",
       "\n",
       "     ...    FEMALE_POP_2124_PCT  FEMALE_POP_2534_PCT  FEMALE_POP_3544_PCT  \\\n",
       "0    ...                 0.0231               0.0439               0.0525   \n",
       "1    ...                 0.0241               0.0566               0.0637   \n",
       "2    ...                 0.0261               0.0830               0.0714   \n",
       "3    ...                 0.0279               0.0628               0.0681   \n",
       "4    ...                 0.0345               0.0652               0.0707   \n",
       "\n",
       "   FEMALE_POP_4554_PCT  FEMALE_POP_5564_PCT  FEMALE_POP_6574_PCT  \\\n",
       "0               0.0573               0.0615               0.0563   \n",
       "1               0.0497               0.0565               0.0462   \n",
       "2               0.0498               0.0419               0.0271   \n",
       "3               0.0578               0.0506               0.0346   \n",
       "4               0.0478               0.0364               0.0221   \n",
       "\n",
       "   FEMALE_POP_75_PCT  CLUSTER  RTL_STORE_CD  BEERTYPE  \n",
       "0             0.0384        5           NaN  LowPoint  \n",
       "1             0.0351        1           NaN  LowPoint  \n",
       "2             0.0200        3           NaN  LowPoint  \n",
       "3             0.0253        5           NaN  LowPoint  \n",
       "4             0.0164        5           NaN  LowPoint  \n",
       "\n",
       "[5 rows x 50 columns]"
      ]
     },
     "execution_count": 20,
     "metadata": {},
     "output_type": "execute_result"
    }
   ],
   "source": [
    "RegressionData.head()"
   ]
  },
  {
   "cell_type": "code",
   "execution_count": 21,
   "metadata": {},
   "outputs": [
    {
     "data": {
      "text/plain": [
       "2320"
      ]
     },
     "execution_count": 21,
     "metadata": {},
     "output_type": "execute_result"
    }
   ],
   "source": [
    "len(RegressionData)"
   ]
  },
  {
   "cell_type": "markdown",
   "metadata": {},
   "source": [
    "### Regression controlling for Cluster"
   ]
  },
  {
   "cell_type": "code",
   "execution_count": 22,
   "metadata": {
    "collapsed": true
   },
   "outputs": [],
   "source": [
    "mod = smf.ols(formula='L12M_TY_QTY ~ C(BEERTYPE) + C(PREMISE_TYPE_DSC) + C(CLUSTER)', data=RegressionData)"
   ]
  },
  {
   "cell_type": "code",
   "execution_count": 23,
   "metadata": {},
   "outputs": [
    {
     "name": "stdout",
     "output_type": "stream",
     "text": [
      "                            OLS Regression Results                            \n",
      "==============================================================================\n",
      "Dep. Variable:            L12M_TY_QTY   R-squared:                       0.953\n",
      "Model:                            OLS   Adj. R-squared:                  0.953\n",
      "Method:                 Least Squares   F-statistic:                     6754.\n",
      "Date:                Tue, 27 Jun 2017   Prob (F-statistic):               0.00\n",
      "Time:                        15:45:17   Log-Likelihood:                -15632.\n",
      "No. Observations:                2320   AIC:                         3.128e+04\n",
      "Df Residuals:                    2312   BIC:                         3.133e+04\n",
      "Df Model:                           7                                         \n",
      "Covariance Type:            nonrobust                                         \n",
      "=====================================================================================================\n",
      "                                        coef    std err          t      P>|t|      [0.025      0.975]\n",
      "-----------------------------------------------------------------------------------------------------\n",
      "Intercept                          2302.9122     19.759    116.548      0.000    2264.164    2341.660\n",
      "C(BEERTYPE)[T.NonLowPoint]            4.1944     35.305      0.119      0.905     -65.038      73.427\n",
      "C(PREMISE_TYPE_DSC)[T.ON PREMISE]   -74.1649     10.339     -7.173      0.000     -94.440     -53.890\n",
      "C(CLUSTER)[T.1]                   -1739.5473     21.911    -79.392      0.000   -1782.514   -1696.580\n",
      "C(CLUSTER)[T.2]                    4526.2127     62.273     72.684      0.000    4404.097    4648.329\n",
      "C(CLUSTER)[T.3]                    1681.1839     32.451     51.808      0.000    1617.549    1744.819\n",
      "C(CLUSTER)[T.4]                   -1034.3069     24.435    -42.328      0.000   -1082.224    -986.389\n",
      "C(CLUSTER)[T.5]                   -2179.9560     21.217   -102.748      0.000   -2221.561   -2138.351\n",
      "==============================================================================\n",
      "Omnibus:                     2644.861   Durbin-Watson:                   1.991\n",
      "Prob(Omnibus):                  0.000   Jarque-Bera (JB):          1332358.624\n",
      "Skew:                           5.141   Prob(JB):                         0.00\n",
      "Kurtosis:                     119.950   Cond. No.                         20.2\n",
      "==============================================================================\n",
      "\n",
      "Warnings:\n",
      "[1] Standard Errors assume that the covariance matrix of the errors is correctly specified.\n"
     ]
    }
   ],
   "source": [
    "print(mod.fit().summary())"
   ]
  },
  {
   "cell_type": "code",
   "execution_count": 24,
   "metadata": {},
   "outputs": [],
   "source": [
    "#Export data to excel\n",
    "RegressionData.to_csv('UtahRegressionData.csv')"
   ]
  },
  {
   "cell_type": "markdown",
   "metadata": {
    "collapsed": true
   },
   "source": [
    "## Select Cluster Based on Beertype Proportion"
   ]
  },
  {
   "cell_type": "code",
   "execution_count": 27,
   "metadata": {},
   "outputs": [
    {
     "name": "stdout",
     "output_type": "stream",
     "text": [
      "                            OLS Regression Results                            \n",
      "==============================================================================\n",
      "Dep. Variable:            L12M_TY_QTY   R-squared:                       0.025\n",
      "Model:                            OLS   Adj. R-squared:                  0.021\n",
      "Method:                 Least Squares   F-statistic:                     5.804\n",
      "Date:                Tue, 27 Jun 2017   Prob (F-statistic):            0.00325\n",
      "Time:                        15:47:16   Log-Likelihood:                -2960.2\n",
      "No. Observations:                 452   AIC:                             5926.\n",
      "Df Residuals:                     449   BIC:                             5939.\n",
      "Df Model:                           2                                         \n",
      "Covariance Type:            nonrobust                                         \n",
      "=====================================================================================================\n",
      "                                        coef    std err          t      P>|t|      [0.025      0.975]\n",
      "-----------------------------------------------------------------------------------------------------\n",
      "Intercept                           561.3891      8.397     66.857      0.000     544.887     577.891\n",
      "C(BEERTYPE)[T.NonLowPoint]           73.2142     37.952      1.929      0.054      -1.371     147.800\n",
      "C(PREMISE_TYPE_DSC)[T.ON PREMISE]   -98.3540     36.349     -2.706      0.007    -169.789     -26.919\n",
      "==============================================================================\n",
      "Omnibus:                      100.399   Durbin-Watson:                   2.033\n",
      "Prob(Omnibus):                  0.000   Jarque-Bera (JB):               30.806\n",
      "Skew:                           0.399   Prob(JB):                     2.04e-07\n",
      "Kurtosis:                       2.001   Cond. No.                         4.83\n",
      "==============================================================================\n",
      "\n",
      "Warnings:\n",
      "[1] Standard Errors assume that the covariance matrix of the errors is correctly specified.\n"
     ]
    }
   ],
   "source": [
    "mod2 = smf.ols(formula='L12M_TY_QTY ~ C(BEERTYPE) + C(PREMISE_TYPE_DSC)', data=RegressionData.loc[RegressionData[\"CLUSTER\"]==1,:])\n",
    "print(mod2.fit().summary())"
   ]
  },
  {
   "cell_type": "code",
   "execution_count": null,
   "metadata": {
    "collapsed": true
   },
   "outputs": [],
   "source": []
  }
 ],
 "metadata": {
  "kernelspec": {
   "display_name": "Python 3",
   "language": "python",
   "name": "python3"
  },
  "language_info": {
   "codemirror_mode": {
    "name": "ipython",
    "version": 3
   },
   "file_extension": ".py",
   "mimetype": "text/x-python",
   "name": "python",
   "nbconvert_exporter": "python",
   "pygments_lexer": "ipython3",
   "version": "3.6.1"
  }
 },
 "nbformat": 4,
 "nbformat_minor": 2
}
