{
 "cells": [
  {
   "cell_type": "markdown",
   "metadata": {},
   "source": [
    "# Impact of 3.2 Beer in Kansas"
   ]
  },
  {
   "cell_type": "code",
   "execution_count": 1,
   "metadata": {
    "collapsed": true
   },
   "outputs": [],
   "source": [
    "# packages used\n",
    "import pandas as pd\n",
    "import numpy as np\n",
    "from sklearn import cluster\n",
    "from sklearn import metrics\n",
    "from sklearn.cluster import KMeans\n",
    "from scipy.spatial.distance import cdist\n",
    "import matplotlib.pyplot as plt\n",
    "import statsmodels.formula.api as smf\n",
    "%matplotlib inline"
   ]
  },
  {
   "cell_type": "markdown",
   "metadata": {},
   "source": [
    "### Load Data"
   ]
  },
  {
   "cell_type": "code",
   "execution_count": 2,
   "metadata": {
    "collapsed": true
   },
   "outputs": [],
   "source": [
    "Stores = pd.read_csv('MinnesotaStoreDataV1.csv')"
   ]
  },
  {
   "cell_type": "markdown",
   "metadata": {},
   "source": [
    "#### Clean Data"
   ]
  },
  {
   "cell_type": "code",
   "execution_count": 3,
   "metadata": {
    "collapsed": true
   },
   "outputs": [],
   "source": [
    "#Remove Stores without Depletion data for the last year (NAs)\n",
    "Stores = Stores.loc[Stores['L12M_TY_QTY'].notnull(),:]\n",
    "\n",
    "#Remove Stores with Negative Depletion data for the last year\n",
    "Stores = Stores.loc[Stores['L12M_TY_QTY'] >= 0,:] \n",
    "\n",
    "#Remove Stores without Demographic data (NAs)\n",
    "Stores = Stores.loc[Stores['MALE_POP_5564_PCT'].notnull(),:] \n",
    "\n",
    "Stores = Stores.reset_index(drop=True)\n",
    "\n",
    "#Change Y and N to 1 and 0\n",
    "Stores['CHAIN_IND_FLG'] = Stores['CHAIN_IND_FLG']=='Y'\n",
    "Stores['FRANCHISE_FLG'] = Stores['FRANCHISE_FLG']=='Y'\n",
    "Stores['BEER_FLG'] = Stores['BEER_FLG']=='Y'\n",
    "Stores['WINE_FLG'] = Stores['WINE_FLG']=='Y'\n",
    "Stores['LIQUOR_FLG'] = Stores['LIQUOR_FLG']=='Y'\n",
    "Stores['FINE_WINE_FLG'] = Stores['FINE_WINE_FLG']=='Y'\n",
    "\n",
    "Stores['STORE_CD'] = Stores['STORE_CD'].astype(str)"
   ]
  },
  {
   "cell_type": "code",
   "execution_count": 4,
   "metadata": {},
   "outputs": [
    {
     "data": {
      "text/html": [
       "<div>\n",
       "<style>\n",
       "    .dataframe thead tr:only-child th {\n",
       "        text-align: right;\n",
       "    }\n",
       "\n",
       "    .dataframe thead th {\n",
       "        text-align: left;\n",
       "    }\n",
       "\n",
       "    .dataframe tbody tr th {\n",
       "        vertical-align: top;\n",
       "    }\n",
       "</style>\n",
       "<table border=\"1\" class=\"dataframe\">\n",
       "  <thead>\n",
       "    <tr style=\"text-align: right;\">\n",
       "      <th></th>\n",
       "      <th>STORE_CD</th>\n",
       "      <th>L12M_TY_QTY</th>\n",
       "      <th>PREMISE_TYPE_DSC</th>\n",
       "      <th>CHANNEL_DSC</th>\n",
       "      <th>SUBCHANNEL_DSC</th>\n",
       "      <th>NO_OF_STORES_DSC</th>\n",
       "      <th>FOOD_TYPE_GROUP_DSC</th>\n",
       "      <th>INDUSTRY_VOL_DSC</th>\n",
       "      <th>PATRON_ETHNICITY_DSC</th>\n",
       "      <th>PATRON_OCCUPATION_DSC</th>\n",
       "      <th>...</th>\n",
       "      <th>MALE_POP_5564_PCT</th>\n",
       "      <th>MALE_POP_6574_PCT</th>\n",
       "      <th>MALE_POP_75_PCT</th>\n",
       "      <th>FEMALE_POP_2124_PCT</th>\n",
       "      <th>FEMALE_POP_2534_PCT</th>\n",
       "      <th>FEMALE_POP_3544_PCT</th>\n",
       "      <th>FEMALE_POP_4554_PCT</th>\n",
       "      <th>FEMALE_POP_5564_PCT</th>\n",
       "      <th>FEMALE_POP_6574_PCT</th>\n",
       "      <th>FEMALE_POP_75_PCT</th>\n",
       "    </tr>\n",
       "  </thead>\n",
       "  <tbody>\n",
       "    <tr>\n",
       "      <th>0</th>\n",
       "      <td>100653507</td>\n",
       "      <td>32.0000</td>\n",
       "      <td>OFF PREMISE</td>\n",
       "      <td>CONVENIENCE STORE</td>\n",
       "      <td>CONVENTIONAL CONVENIENCE</td>\n",
       "      <td>1 STORE</td>\n",
       "      <td>OTHER</td>\n",
       "      <td>LOWEST 20% ON/ LOWEST 20% OFF</td>\n",
       "      <td>GENERAL POPULATION</td>\n",
       "      <td>BLUE COLLAR</td>\n",
       "      <td>...</td>\n",
       "      <td>0.0567</td>\n",
       "      <td>0.0353</td>\n",
       "      <td>0.0254</td>\n",
       "      <td>0.0251</td>\n",
       "      <td>0.0646</td>\n",
       "      <td>0.0583</td>\n",
       "      <td>0.0500</td>\n",
       "      <td>0.0525</td>\n",
       "      <td>0.0367</td>\n",
       "      <td>0.0382</td>\n",
       "    </tr>\n",
       "    <tr>\n",
       "      <th>1</th>\n",
       "      <td>105647825</td>\n",
       "      <td>0.0000</td>\n",
       "      <td>ON PREMISE</td>\n",
       "      <td>LODGING</td>\n",
       "      <td>RESORT/CONVENTION</td>\n",
       "      <td>1 STORE</td>\n",
       "      <td>VARIED MENU</td>\n",
       "      <td>LOWEST 20% ON/ LOWEST 20% OFF</td>\n",
       "      <td>GENERAL POPULATION</td>\n",
       "      <td>BLUE COLLAR</td>\n",
       "      <td>...</td>\n",
       "      <td>0.1057</td>\n",
       "      <td>0.0792</td>\n",
       "      <td>0.0419</td>\n",
       "      <td>0.0203</td>\n",
       "      <td>0.0415</td>\n",
       "      <td>0.0450</td>\n",
       "      <td>0.0615</td>\n",
       "      <td>0.0985</td>\n",
       "      <td>0.0724</td>\n",
       "      <td>0.0468</td>\n",
       "    </tr>\n",
       "    <tr>\n",
       "      <th>2</th>\n",
       "      <td>100155440</td>\n",
       "      <td>11.0000</td>\n",
       "      <td>OFF PREMISE</td>\n",
       "      <td>CONVENIENCE STORE</td>\n",
       "      <td>CONVENTIONAL CONVENIENCE</td>\n",
       "      <td>1 STORE</td>\n",
       "      <td>OTHER</td>\n",
       "      <td>LOWEST 20% ON/ LOWEST 20% OFF</td>\n",
       "      <td>GENERAL POPULATION</td>\n",
       "      <td>BLUE COLLAR</td>\n",
       "      <td>...</td>\n",
       "      <td>0.0432</td>\n",
       "      <td>0.0309</td>\n",
       "      <td>0.0249</td>\n",
       "      <td>0.0892</td>\n",
       "      <td>0.0760</td>\n",
       "      <td>0.0484</td>\n",
       "      <td>0.0410</td>\n",
       "      <td>0.0465</td>\n",
       "      <td>0.0366</td>\n",
       "      <td>0.0417</td>\n",
       "    </tr>\n",
       "    <tr>\n",
       "      <th>3</th>\n",
       "      <td>101425997</td>\n",
       "      <td>352.4998</td>\n",
       "      <td>OFF PREMISE</td>\n",
       "      <td>LIQUOR</td>\n",
       "      <td>CONVENTIONAL LIQUOR</td>\n",
       "      <td>1 STORE</td>\n",
       "      <td>OTHER</td>\n",
       "      <td>LOWEST 20% ON/ LOWEST 20% OFF</td>\n",
       "      <td>GENERAL POPULATION</td>\n",
       "      <td>UNKNOWN</td>\n",
       "      <td>...</td>\n",
       "      <td>0.0884</td>\n",
       "      <td>0.0516</td>\n",
       "      <td>0.0291</td>\n",
       "      <td>0.0273</td>\n",
       "      <td>0.0492</td>\n",
       "      <td>0.0435</td>\n",
       "      <td>0.0816</td>\n",
       "      <td>0.0906</td>\n",
       "      <td>0.0526</td>\n",
       "      <td>0.0412</td>\n",
       "    </tr>\n",
       "    <tr>\n",
       "      <th>4</th>\n",
       "      <td>205649089</td>\n",
       "      <td>23.0000</td>\n",
       "      <td>ON PREMISE</td>\n",
       "      <td>BAR/NIGHTCLUB</td>\n",
       "      <td>NEIGHBORHOOD BAR</td>\n",
       "      <td>1 STORE</td>\n",
       "      <td>OTHER</td>\n",
       "      <td>LOWEST 20% ON/ LOWEST 20% OFF</td>\n",
       "      <td>GENERAL POPULATION</td>\n",
       "      <td>UNKNOWN</td>\n",
       "      <td>...</td>\n",
       "      <td>0.0531</td>\n",
       "      <td>0.0340</td>\n",
       "      <td>0.0145</td>\n",
       "      <td>0.0232</td>\n",
       "      <td>0.1008</td>\n",
       "      <td>0.0695</td>\n",
       "      <td>0.0541</td>\n",
       "      <td>0.0547</td>\n",
       "      <td>0.0374</td>\n",
       "      <td>0.0223</td>\n",
       "    </tr>\n",
       "  </tbody>\n",
       "</table>\n",
       "<p>5 rows × 47 columns</p>\n",
       "</div>"
      ],
      "text/plain": [
       "    STORE_CD  L12M_TY_QTY PREMISE_TYPE_DSC        CHANNEL_DSC  \\\n",
       "0  100653507      32.0000      OFF PREMISE  CONVENIENCE STORE   \n",
       "1  105647825       0.0000       ON PREMISE            LODGING   \n",
       "2  100155440      11.0000      OFF PREMISE  CONVENIENCE STORE   \n",
       "3  101425997     352.4998      OFF PREMISE             LIQUOR   \n",
       "4  205649089      23.0000       ON PREMISE      BAR/NIGHTCLUB   \n",
       "\n",
       "             SUBCHANNEL_DSC NO_OF_STORES_DSC FOOD_TYPE_GROUP_DSC  \\\n",
       "0  CONVENTIONAL CONVENIENCE          1 STORE               OTHER   \n",
       "1         RESORT/CONVENTION          1 STORE         VARIED MENU   \n",
       "2  CONVENTIONAL CONVENIENCE          1 STORE               OTHER   \n",
       "3       CONVENTIONAL LIQUOR          1 STORE               OTHER   \n",
       "4          NEIGHBORHOOD BAR          1 STORE               OTHER   \n",
       "\n",
       "                INDUSTRY_VOL_DSC PATRON_ETHNICITY_DSC PATRON_OCCUPATION_DSC  \\\n",
       "0  LOWEST 20% ON/ LOWEST 20% OFF   GENERAL POPULATION           BLUE COLLAR   \n",
       "1  LOWEST 20% ON/ LOWEST 20% OFF   GENERAL POPULATION           BLUE COLLAR   \n",
       "2  LOWEST 20% ON/ LOWEST 20% OFF   GENERAL POPULATION           BLUE COLLAR   \n",
       "3  LOWEST 20% ON/ LOWEST 20% OFF   GENERAL POPULATION               UNKNOWN   \n",
       "4  LOWEST 20% ON/ LOWEST 20% OFF   GENERAL POPULATION               UNKNOWN   \n",
       "\n",
       "         ...         MALE_POP_5564_PCT  MALE_POP_6574_PCT  MALE_POP_75_PCT  \\\n",
       "0        ...                    0.0567             0.0353           0.0254   \n",
       "1        ...                    0.1057             0.0792           0.0419   \n",
       "2        ...                    0.0432             0.0309           0.0249   \n",
       "3        ...                    0.0884             0.0516           0.0291   \n",
       "4        ...                    0.0531             0.0340           0.0145   \n",
       "\n",
       "   FEMALE_POP_2124_PCT  FEMALE_POP_2534_PCT  FEMALE_POP_3544_PCT  \\\n",
       "0               0.0251               0.0646               0.0583   \n",
       "1               0.0203               0.0415               0.0450   \n",
       "2               0.0892               0.0760               0.0484   \n",
       "3               0.0273               0.0492               0.0435   \n",
       "4               0.0232               0.1008               0.0695   \n",
       "\n",
       "   FEMALE_POP_4554_PCT  FEMALE_POP_5564_PCT  FEMALE_POP_6574_PCT  \\\n",
       "0               0.0500               0.0525               0.0367   \n",
       "1               0.0615               0.0985               0.0724   \n",
       "2               0.0410               0.0465               0.0366   \n",
       "3               0.0816               0.0906               0.0526   \n",
       "4               0.0541               0.0547               0.0374   \n",
       "\n",
       "   FEMALE_POP_75_PCT  \n",
       "0             0.0382  \n",
       "1             0.0468  \n",
       "2             0.0417  \n",
       "3             0.0412  \n",
       "4             0.0223  \n",
       "\n",
       "[5 rows x 47 columns]"
      ]
     },
     "execution_count": 4,
     "metadata": {},
     "output_type": "execute_result"
    }
   ],
   "source": [
    "Stores.head()"
   ]
  },
  {
   "cell_type": "code",
   "execution_count": 5,
   "metadata": {},
   "outputs": [
    {
     "data": {
      "text/plain": [
       "5869"
      ]
     },
     "execution_count": 5,
     "metadata": {},
     "output_type": "execute_result"
    }
   ],
   "source": [
    "#Number of Stores\n",
    "len(Stores)"
   ]
  },
  {
   "cell_type": "markdown",
   "metadata": {},
   "source": [
    "### Data Preprocessing"
   ]
  },
  {
   "cell_type": "code",
   "execution_count": 6,
   "metadata": {
    "collapsed": true
   },
   "outputs": [],
   "source": [
    "#Binarize function\n",
    "def binarize(dataframe , column):\n",
    "    dataframe = pd.concat([dataframe ,pd.get_dummies(dataframe[column] , prefix = ['B_'+c for c in column])] , axis = 1)\n",
    "    return(dataframe)"
   ]
  },
  {
   "cell_type": "code",
   "execution_count": 7,
   "metadata": {
    "collapsed": true
   },
   "outputs": [],
   "source": [
    "#Get Dummies\n",
    "DummiesColumns = ['PREMISE_TYPE_DSC','CHANNEL_DSC','SUBCHANNEL_DSC','NO_OF_STORES_DSC','FOOD_TYPE_GROUP_DSC','INDUSTRY_VOL_DSC',\n",
    "                 'PATRON_ETHNICITY_DSC','PATRON_OCCUPATION_DSC','PATRON_AGE_DSC']\n",
    "StoresC = binarize(Stores, DummiesColumns)"
   ]
  },
  {
   "cell_type": "code",
   "execution_count": 8,
   "metadata": {
    "collapsed": true
   },
   "outputs": [],
   "source": [
    "# prepare data to fit model\n",
    "X_labels = [c for c in StoresC.columns if c not in ['PREMISE_TYPE_DSC','CHANNEL_DSC','SUBCHANNEL_DSC','NO_OF_STORES_DSC',\n",
    "                                                     'FOOD_TYPE_GROUP_DSC','INDUSTRY_VOL_DSC','PATRON_ETHNICITY_DSC',\n",
    "                                                     'PATRON_OCCUPATION_DSC','PATRON_AGE_DSC','STORE_CD']]\n",
    "X = StoresC.loc[:,X_labels]"
   ]
  },
  {
   "cell_type": "code",
   "execution_count": 9,
   "metadata": {},
   "outputs": [
    {
     "data": {
      "text/html": [
       "<div>\n",
       "<style>\n",
       "    .dataframe thead tr:only-child th {\n",
       "        text-align: right;\n",
       "    }\n",
       "\n",
       "    .dataframe thead th {\n",
       "        text-align: left;\n",
       "    }\n",
       "\n",
       "    .dataframe tbody tr th {\n",
       "        vertical-align: top;\n",
       "    }\n",
       "</style>\n",
       "<table border=\"1\" class=\"dataframe\">\n",
       "  <thead>\n",
       "    <tr style=\"text-align: right;\">\n",
       "      <th></th>\n",
       "      <th>L12M_TY_QTY</th>\n",
       "      <th>CHAIN_IND_FLG</th>\n",
       "      <th>FRANCHISE_FLG</th>\n",
       "      <th>BEER_FLG</th>\n",
       "      <th>WINE_FLG</th>\n",
       "      <th>LIQUOR_FLG</th>\n",
       "      <th>FINE_WINE_FLG</th>\n",
       "      <th>WHITE_POP_PCT</th>\n",
       "      <th>BLACK_POP_PCT</th>\n",
       "      <th>ASIAN_POP_PCT</th>\n",
       "      <th>...</th>\n",
       "      <th>B_PATRON_ETHNICITY_DSC_MEXICAN</th>\n",
       "      <th>B_PATRON_ETHNICITY_DSC_UNKNOWN</th>\n",
       "      <th>B_PATRON_OCCUPATION_DSC_BLUE COLLAR</th>\n",
       "      <th>B_PATRON_OCCUPATION_DSC_COLLEGE</th>\n",
       "      <th>B_PATRON_OCCUPATION_DSC_OTHER</th>\n",
       "      <th>B_PATRON_OCCUPATION_DSC_UNKNOWN</th>\n",
       "      <th>B_PATRON_OCCUPATION_DSC_WHITE COLLAR</th>\n",
       "      <th>B_PATRON_AGE_DSC_GENERAL POPULATION</th>\n",
       "      <th>B_PATRON_AGE_DSC_UNKNOWN</th>\n",
       "      <th>B_PATRON_AGE_DSC_YOUNG ADULT (21-28)</th>\n",
       "    </tr>\n",
       "  </thead>\n",
       "  <tbody>\n",
       "    <tr>\n",
       "      <th>0</th>\n",
       "      <td>32.0000</td>\n",
       "      <td>True</td>\n",
       "      <td>True</td>\n",
       "      <td>True</td>\n",
       "      <td>False</td>\n",
       "      <td>False</td>\n",
       "      <td>False</td>\n",
       "      <td>0.5171</td>\n",
       "      <td>0.0512</td>\n",
       "      <td>0.0811</td>\n",
       "      <td>...</td>\n",
       "      <td>0</td>\n",
       "      <td>0</td>\n",
       "      <td>1</td>\n",
       "      <td>0</td>\n",
       "      <td>0</td>\n",
       "      <td>0</td>\n",
       "      <td>0</td>\n",
       "      <td>1</td>\n",
       "      <td>0</td>\n",
       "      <td>0</td>\n",
       "    </tr>\n",
       "    <tr>\n",
       "      <th>1</th>\n",
       "      <td>0.0000</td>\n",
       "      <td>False</td>\n",
       "      <td>False</td>\n",
       "      <td>True</td>\n",
       "      <td>True</td>\n",
       "      <td>True</td>\n",
       "      <td>False</td>\n",
       "      <td>0.9059</td>\n",
       "      <td>0.0031</td>\n",
       "      <td>0.0038</td>\n",
       "      <td>...</td>\n",
       "      <td>0</td>\n",
       "      <td>0</td>\n",
       "      <td>1</td>\n",
       "      <td>0</td>\n",
       "      <td>0</td>\n",
       "      <td>0</td>\n",
       "      <td>0</td>\n",
       "      <td>1</td>\n",
       "      <td>0</td>\n",
       "      <td>0</td>\n",
       "    </tr>\n",
       "    <tr>\n",
       "      <th>2</th>\n",
       "      <td>11.0000</td>\n",
       "      <td>False</td>\n",
       "      <td>False</td>\n",
       "      <td>True</td>\n",
       "      <td>False</td>\n",
       "      <td>False</td>\n",
       "      <td>False</td>\n",
       "      <td>0.8669</td>\n",
       "      <td>0.0510</td>\n",
       "      <td>0.0436</td>\n",
       "      <td>...</td>\n",
       "      <td>0</td>\n",
       "      <td>0</td>\n",
       "      <td>1</td>\n",
       "      <td>0</td>\n",
       "      <td>0</td>\n",
       "      <td>0</td>\n",
       "      <td>0</td>\n",
       "      <td>1</td>\n",
       "      <td>0</td>\n",
       "      <td>0</td>\n",
       "    </tr>\n",
       "    <tr>\n",
       "      <th>3</th>\n",
       "      <td>352.4998</td>\n",
       "      <td>False</td>\n",
       "      <td>False</td>\n",
       "      <td>True</td>\n",
       "      <td>True</td>\n",
       "      <td>True</td>\n",
       "      <td>False</td>\n",
       "      <td>0.9284</td>\n",
       "      <td>0.0191</td>\n",
       "      <td>0.0232</td>\n",
       "      <td>...</td>\n",
       "      <td>0</td>\n",
       "      <td>0</td>\n",
       "      <td>0</td>\n",
       "      <td>0</td>\n",
       "      <td>0</td>\n",
       "      <td>1</td>\n",
       "      <td>0</td>\n",
       "      <td>1</td>\n",
       "      <td>0</td>\n",
       "      <td>0</td>\n",
       "    </tr>\n",
       "    <tr>\n",
       "      <th>4</th>\n",
       "      <td>23.0000</td>\n",
       "      <td>False</td>\n",
       "      <td>False</td>\n",
       "      <td>True</td>\n",
       "      <td>True</td>\n",
       "      <td>True</td>\n",
       "      <td>False</td>\n",
       "      <td>0.5491</td>\n",
       "      <td>0.1778</td>\n",
       "      <td>0.1582</td>\n",
       "      <td>...</td>\n",
       "      <td>0</td>\n",
       "      <td>0</td>\n",
       "      <td>0</td>\n",
       "      <td>0</td>\n",
       "      <td>0</td>\n",
       "      <td>1</td>\n",
       "      <td>0</td>\n",
       "      <td>1</td>\n",
       "      <td>0</td>\n",
       "      <td>0</td>\n",
       "    </tr>\n",
       "  </tbody>\n",
       "</table>\n",
       "<p>5 rows × 127 columns</p>\n",
       "</div>"
      ],
      "text/plain": [
       "   L12M_TY_QTY  CHAIN_IND_FLG  FRANCHISE_FLG  BEER_FLG  WINE_FLG  LIQUOR_FLG  \\\n",
       "0      32.0000           True           True      True     False       False   \n",
       "1       0.0000          False          False      True      True        True   \n",
       "2      11.0000          False          False      True     False       False   \n",
       "3     352.4998          False          False      True      True        True   \n",
       "4      23.0000          False          False      True      True        True   \n",
       "\n",
       "   FINE_WINE_FLG  WHITE_POP_PCT  BLACK_POP_PCT  ASIAN_POP_PCT  \\\n",
       "0          False         0.5171         0.0512         0.0811   \n",
       "1          False         0.9059         0.0031         0.0038   \n",
       "2          False         0.8669         0.0510         0.0436   \n",
       "3          False         0.9284         0.0191         0.0232   \n",
       "4          False         0.5491         0.1778         0.1582   \n",
       "\n",
       "                   ...                   B_PATRON_ETHNICITY_DSC_MEXICAN  \\\n",
       "0                  ...                                                0   \n",
       "1                  ...                                                0   \n",
       "2                  ...                                                0   \n",
       "3                  ...                                                0   \n",
       "4                  ...                                                0   \n",
       "\n",
       "   B_PATRON_ETHNICITY_DSC_UNKNOWN  B_PATRON_OCCUPATION_DSC_BLUE COLLAR  \\\n",
       "0                               0                                    1   \n",
       "1                               0                                    1   \n",
       "2                               0                                    1   \n",
       "3                               0                                    0   \n",
       "4                               0                                    0   \n",
       "\n",
       "   B_PATRON_OCCUPATION_DSC_COLLEGE  B_PATRON_OCCUPATION_DSC_OTHER  \\\n",
       "0                                0                              0   \n",
       "1                                0                              0   \n",
       "2                                0                              0   \n",
       "3                                0                              0   \n",
       "4                                0                              0   \n",
       "\n",
       "   B_PATRON_OCCUPATION_DSC_UNKNOWN  B_PATRON_OCCUPATION_DSC_WHITE COLLAR  \\\n",
       "0                                0                                     0   \n",
       "1                                0                                     0   \n",
       "2                                0                                     0   \n",
       "3                                1                                     0   \n",
       "4                                1                                     0   \n",
       "\n",
       "   B_PATRON_AGE_DSC_GENERAL POPULATION  B_PATRON_AGE_DSC_UNKNOWN  \\\n",
       "0                                    1                         0   \n",
       "1                                    1                         0   \n",
       "2                                    1                         0   \n",
       "3                                    1                         0   \n",
       "4                                    1                         0   \n",
       "\n",
       "   B_PATRON_AGE_DSC_YOUNG ADULT (21-28)  \n",
       "0                                     0  \n",
       "1                                     0  \n",
       "2                                     0  \n",
       "3                                     0  \n",
       "4                                     0  \n",
       "\n",
       "[5 rows x 127 columns]"
      ]
     },
     "execution_count": 9,
     "metadata": {},
     "output_type": "execute_result"
    }
   ],
   "source": [
    "X.head()"
   ]
  },
  {
   "cell_type": "markdown",
   "metadata": {},
   "source": [
    "## Clustering"
   ]
  },
  {
   "cell_type": "markdown",
   "metadata": {},
   "source": [
    "### Choose number of Clusters"
   ]
  },
  {
   "cell_type": "code",
   "execution_count": 10,
   "metadata": {
    "collapsed": true
   },
   "outputs": [],
   "source": [
    "#Tunned Elbow Method\n",
    "K = range(1, 40)\n",
    "meandistortions = []\n",
    "for k in K:\n",
    "    kmeans = KMeans(n_clusters=k, n_jobs = -2)\n",
    "    kmeans.fit(X)\n",
    "    meandistortions.append(sum(np.min(cdist(X, kmeans.cluster_centers_, 'euclidean'), axis=1)) / X.shape[0])"
   ]
  },
  {
   "cell_type": "code",
   "execution_count": 11,
   "metadata": {},
   "outputs": [
    {
     "data": {
      "image/png": "[encoded data removed]",
      "text/plain": [
       "<matplotlib.figure.Figure at 0xc4fd588>"
      ]
     },
     "metadata": {},
     "output_type": "display_data"
    }
   ],
   "source": [
    "plt.plot(K, meandistortions, 'bx-')\n",
    "plt.xlabel('k')\n",
    "plt.ylabel('Average distortion')\n",
    "plt.title('Selecting k with the Elbow Method')\n",
    "plt.show()"
   ]
  },
  {
   "cell_type": "code",
   "execution_count": 12,
   "metadata": {
    "collapsed": true
   },
   "outputs": [],
   "source": [
    "#Silhouette_score\n",
    "#results = []\n",
    "#NumberClusters = range(2,15,1)\n",
    "#for k in NumberClusters:\n",
    "#    kmeans_model = cluster.KMeans(n_clusters=k, random_state=1, n_jobs = -2).fit(X)\n",
    "#    labels = kmeans_model.labels_\n",
    "#    score = metrics.silhouette_score(X, labels, metric='euclidean')\n",
    "#    results.append((k,score))\n",
    "\n",
    "#Clustering_Score = pd.DataFrame(data=results,columns=['NumberOfClusters','silhouette_score'])\n",
    "#Clustering_Score"
   ]
  },
  {
   "cell_type": "code",
   "execution_count": 13,
   "metadata": {
    "collapsed": true
   },
   "outputs": [],
   "source": [
    "#Cluster the Data\n",
    "kmeans_model = cluster.KMeans(n_clusters=10, random_state=1, n_jobs = -2).fit(X)\n",
    "labels = kmeans_model.labels_"
   ]
  },
  {
   "cell_type": "code",
   "execution_count": 14,
   "metadata": {
    "collapsed": true
   },
   "outputs": [],
   "source": [
    "#Assign Cluster to Data\n",
    "Stores['CLUSTER'] = labels"
   ]
  },
  {
   "cell_type": "markdown",
   "metadata": {
    "collapsed": true
   },
   "source": [
    "## Regression Analysis"
   ]
  },
  {
   "cell_type": "code",
   "execution_count": 15,
   "metadata": {
    "collapsed": true
   },
   "outputs": [],
   "source": [
    "#Load classification data\n",
    "StoresClass = pd.read_csv('NonLowPointStoresMinnesota.csv', dtype = str)"
   ]
  },
  {
   "cell_type": "code",
   "execution_count": 16,
   "metadata": {},
   "outputs": [
    {
     "data": {
      "text/html": [
       "<div>\n",
       "<style>\n",
       "    .dataframe thead tr:only-child th {\n",
       "        text-align: right;\n",
       "    }\n",
       "\n",
       "    .dataframe thead th {\n",
       "        text-align: left;\n",
       "    }\n",
       "\n",
       "    .dataframe tbody tr th {\n",
       "        vertical-align: top;\n",
       "    }\n",
       "</style>\n",
       "<table border=\"1\" class=\"dataframe\">\n",
       "  <thead>\n",
       "    <tr style=\"text-align: right;\">\n",
       "      <th></th>\n",
       "      <th>RTL_STORE_CD</th>\n",
       "      <th>BEERTYPE</th>\n",
       "    </tr>\n",
       "  </thead>\n",
       "  <tbody>\n",
       "    <tr>\n",
       "      <th>0</th>\n",
       "      <td>101857377</td>\n",
       "      <td>NonLowPoint</td>\n",
       "    </tr>\n",
       "    <tr>\n",
       "      <th>1</th>\n",
       "      <td>107046430</td>\n",
       "      <td>NonLowPoint</td>\n",
       "    </tr>\n",
       "    <tr>\n",
       "      <th>2</th>\n",
       "      <td>101971024</td>\n",
       "      <td>NonLowPoint</td>\n",
       "    </tr>\n",
       "    <tr>\n",
       "      <th>3</th>\n",
       "      <td>102194556</td>\n",
       "      <td>NonLowPoint</td>\n",
       "    </tr>\n",
       "    <tr>\n",
       "      <th>4</th>\n",
       "      <td>205647194</td>\n",
       "      <td>NonLowPoint</td>\n",
       "    </tr>\n",
       "  </tbody>\n",
       "</table>\n",
       "</div>"
      ],
      "text/plain": [
       "  RTL_STORE_CD     BEERTYPE\n",
       "0    101857377  NonLowPoint\n",
       "1    107046430  NonLowPoint\n",
       "2    101971024  NonLowPoint\n",
       "3    102194556  NonLowPoint\n",
       "4    205647194  NonLowPoint"
      ]
     },
     "execution_count": 16,
     "metadata": {},
     "output_type": "execute_result"
    }
   ],
   "source": [
    "StoresClass.head()"
   ]
  },
  {
   "cell_type": "code",
   "execution_count": 17,
   "metadata": {
    "collapsed": true
   },
   "outputs": [],
   "source": [
    "#Merge Class with Store Data for regression\n",
    "RegressionData = pd.merge(Stores, StoresClass, left_on='STORE_CD', right_on=\"RTL_STORE_CD\", how=\"left\")\n",
    "RegressionData.loc[RegressionData['BEERTYPE'].isnull(),\"BEERTYPE\"] = \"LowPoint\""
   ]
  },
  {
   "cell_type": "code",
   "execution_count": 18,
   "metadata": {},
   "outputs": [
    {
     "data": {
      "text/html": [
       "<div>\n",
       "<style>\n",
       "    .dataframe thead tr:only-child th {\n",
       "        text-align: right;\n",
       "    }\n",
       "\n",
       "    .dataframe thead th {\n",
       "        text-align: left;\n",
       "    }\n",
       "\n",
       "    .dataframe tbody tr th {\n",
       "        vertical-align: top;\n",
       "    }\n",
       "</style>\n",
       "<table border=\"1\" class=\"dataframe\">\n",
       "  <thead>\n",
       "    <tr style=\"text-align: right;\">\n",
       "      <th></th>\n",
       "      <th>STORE_CD</th>\n",
       "      <th>L12M_TY_QTY</th>\n",
       "      <th>PREMISE_TYPE_DSC</th>\n",
       "      <th>CHANNEL_DSC</th>\n",
       "      <th>SUBCHANNEL_DSC</th>\n",
       "      <th>NO_OF_STORES_DSC</th>\n",
       "      <th>FOOD_TYPE_GROUP_DSC</th>\n",
       "      <th>INDUSTRY_VOL_DSC</th>\n",
       "      <th>PATRON_ETHNICITY_DSC</th>\n",
       "      <th>PATRON_OCCUPATION_DSC</th>\n",
       "      <th>...</th>\n",
       "      <th>FEMALE_POP_2124_PCT</th>\n",
       "      <th>FEMALE_POP_2534_PCT</th>\n",
       "      <th>FEMALE_POP_3544_PCT</th>\n",
       "      <th>FEMALE_POP_4554_PCT</th>\n",
       "      <th>FEMALE_POP_5564_PCT</th>\n",
       "      <th>FEMALE_POP_6574_PCT</th>\n",
       "      <th>FEMALE_POP_75_PCT</th>\n",
       "      <th>CLUSTER</th>\n",
       "      <th>RTL_STORE_CD</th>\n",
       "      <th>BEERTYPE</th>\n",
       "    </tr>\n",
       "  </thead>\n",
       "  <tbody>\n",
       "    <tr>\n",
       "      <th>0</th>\n",
       "      <td>100653507</td>\n",
       "      <td>32.0000</td>\n",
       "      <td>OFF PREMISE</td>\n",
       "      <td>CONVENIENCE STORE</td>\n",
       "      <td>CONVENTIONAL CONVENIENCE</td>\n",
       "      <td>1 STORE</td>\n",
       "      <td>OTHER</td>\n",
       "      <td>LOWEST 20% ON/ LOWEST 20% OFF</td>\n",
       "      <td>GENERAL POPULATION</td>\n",
       "      <td>BLUE COLLAR</td>\n",
       "      <td>...</td>\n",
       "      <td>0.0251</td>\n",
       "      <td>0.0646</td>\n",
       "      <td>0.0583</td>\n",
       "      <td>0.0500</td>\n",
       "      <td>0.0525</td>\n",
       "      <td>0.0367</td>\n",
       "      <td>0.0382</td>\n",
       "      <td>7</td>\n",
       "      <td>NaN</td>\n",
       "      <td>LowPoint</td>\n",
       "    </tr>\n",
       "    <tr>\n",
       "      <th>1</th>\n",
       "      <td>105647825</td>\n",
       "      <td>0.0000</td>\n",
       "      <td>ON PREMISE</td>\n",
       "      <td>LODGING</td>\n",
       "      <td>RESORT/CONVENTION</td>\n",
       "      <td>1 STORE</td>\n",
       "      <td>VARIED MENU</td>\n",
       "      <td>LOWEST 20% ON/ LOWEST 20% OFF</td>\n",
       "      <td>GENERAL POPULATION</td>\n",
       "      <td>BLUE COLLAR</td>\n",
       "      <td>...</td>\n",
       "      <td>0.0203</td>\n",
       "      <td>0.0415</td>\n",
       "      <td>0.0450</td>\n",
       "      <td>0.0615</td>\n",
       "      <td>0.0985</td>\n",
       "      <td>0.0724</td>\n",
       "      <td>0.0468</td>\n",
       "      <td>7</td>\n",
       "      <td>NaN</td>\n",
       "      <td>LowPoint</td>\n",
       "    </tr>\n",
       "    <tr>\n",
       "      <th>2</th>\n",
       "      <td>100155440</td>\n",
       "      <td>11.0000</td>\n",
       "      <td>OFF PREMISE</td>\n",
       "      <td>CONVENIENCE STORE</td>\n",
       "      <td>CONVENTIONAL CONVENIENCE</td>\n",
       "      <td>1 STORE</td>\n",
       "      <td>OTHER</td>\n",
       "      <td>LOWEST 20% ON/ LOWEST 20% OFF</td>\n",
       "      <td>GENERAL POPULATION</td>\n",
       "      <td>BLUE COLLAR</td>\n",
       "      <td>...</td>\n",
       "      <td>0.0892</td>\n",
       "      <td>0.0760</td>\n",
       "      <td>0.0484</td>\n",
       "      <td>0.0410</td>\n",
       "      <td>0.0465</td>\n",
       "      <td>0.0366</td>\n",
       "      <td>0.0417</td>\n",
       "      <td>7</td>\n",
       "      <td>NaN</td>\n",
       "      <td>LowPoint</td>\n",
       "    </tr>\n",
       "    <tr>\n",
       "      <th>3</th>\n",
       "      <td>101425997</td>\n",
       "      <td>352.4998</td>\n",
       "      <td>OFF PREMISE</td>\n",
       "      <td>LIQUOR</td>\n",
       "      <td>CONVENTIONAL LIQUOR</td>\n",
       "      <td>1 STORE</td>\n",
       "      <td>OTHER</td>\n",
       "      <td>LOWEST 20% ON/ LOWEST 20% OFF</td>\n",
       "      <td>GENERAL POPULATION</td>\n",
       "      <td>UNKNOWN</td>\n",
       "      <td>...</td>\n",
       "      <td>0.0273</td>\n",
       "      <td>0.0492</td>\n",
       "      <td>0.0435</td>\n",
       "      <td>0.0816</td>\n",
       "      <td>0.0906</td>\n",
       "      <td>0.0526</td>\n",
       "      <td>0.0412</td>\n",
       "      <td>0</td>\n",
       "      <td>101425997</td>\n",
       "      <td>NonLowPoint</td>\n",
       "    </tr>\n",
       "    <tr>\n",
       "      <th>4</th>\n",
       "      <td>205649089</td>\n",
       "      <td>23.0000</td>\n",
       "      <td>ON PREMISE</td>\n",
       "      <td>BAR/NIGHTCLUB</td>\n",
       "      <td>NEIGHBORHOOD BAR</td>\n",
       "      <td>1 STORE</td>\n",
       "      <td>OTHER</td>\n",
       "      <td>LOWEST 20% ON/ LOWEST 20% OFF</td>\n",
       "      <td>GENERAL POPULATION</td>\n",
       "      <td>UNKNOWN</td>\n",
       "      <td>...</td>\n",
       "      <td>0.0232</td>\n",
       "      <td>0.1008</td>\n",
       "      <td>0.0695</td>\n",
       "      <td>0.0541</td>\n",
       "      <td>0.0547</td>\n",
       "      <td>0.0374</td>\n",
       "      <td>0.0223</td>\n",
       "      <td>7</td>\n",
       "      <td>205649089</td>\n",
       "      <td>NonLowPoint</td>\n",
       "    </tr>\n",
       "  </tbody>\n",
       "</table>\n",
       "<p>5 rows × 50 columns</p>\n",
       "</div>"
      ],
      "text/plain": [
       "    STORE_CD  L12M_TY_QTY PREMISE_TYPE_DSC        CHANNEL_DSC  \\\n",
       "0  100653507      32.0000      OFF PREMISE  CONVENIENCE STORE   \n",
       "1  105647825       0.0000       ON PREMISE            LODGING   \n",
       "2  100155440      11.0000      OFF PREMISE  CONVENIENCE STORE   \n",
       "3  101425997     352.4998      OFF PREMISE             LIQUOR   \n",
       "4  205649089      23.0000       ON PREMISE      BAR/NIGHTCLUB   \n",
       "\n",
       "             SUBCHANNEL_DSC NO_OF_STORES_DSC FOOD_TYPE_GROUP_DSC  \\\n",
       "0  CONVENTIONAL CONVENIENCE          1 STORE               OTHER   \n",
       "1         RESORT/CONVENTION          1 STORE         VARIED MENU   \n",
       "2  CONVENTIONAL CONVENIENCE          1 STORE               OTHER   \n",
       "3       CONVENTIONAL LIQUOR          1 STORE               OTHER   \n",
       "4          NEIGHBORHOOD BAR          1 STORE               OTHER   \n",
       "\n",
       "                INDUSTRY_VOL_DSC PATRON_ETHNICITY_DSC PATRON_OCCUPATION_DSC  \\\n",
       "0  LOWEST 20% ON/ LOWEST 20% OFF   GENERAL POPULATION           BLUE COLLAR   \n",
       "1  LOWEST 20% ON/ LOWEST 20% OFF   GENERAL POPULATION           BLUE COLLAR   \n",
       "2  LOWEST 20% ON/ LOWEST 20% OFF   GENERAL POPULATION           BLUE COLLAR   \n",
       "3  LOWEST 20% ON/ LOWEST 20% OFF   GENERAL POPULATION               UNKNOWN   \n",
       "4  LOWEST 20% ON/ LOWEST 20% OFF   GENERAL POPULATION               UNKNOWN   \n",
       "\n",
       "      ...      FEMALE_POP_2124_PCT  FEMALE_POP_2534_PCT  FEMALE_POP_3544_PCT  \\\n",
       "0     ...                   0.0251               0.0646               0.0583   \n",
       "1     ...                   0.0203               0.0415               0.0450   \n",
       "2     ...                   0.0892               0.0760               0.0484   \n",
       "3     ...                   0.0273               0.0492               0.0435   \n",
       "4     ...                   0.0232               0.1008               0.0695   \n",
       "\n",
       "   FEMALE_POP_4554_PCT  FEMALE_POP_5564_PCT  FEMALE_POP_6574_PCT  \\\n",
       "0               0.0500               0.0525               0.0367   \n",
       "1               0.0615               0.0985               0.0724   \n",
       "2               0.0410               0.0465               0.0366   \n",
       "3               0.0816               0.0906               0.0526   \n",
       "4               0.0541               0.0547               0.0374   \n",
       "\n",
       "   FEMALE_POP_75_PCT  CLUSTER  RTL_STORE_CD     BEERTYPE  \n",
       "0             0.0382        7           NaN     LowPoint  \n",
       "1             0.0468        7           NaN     LowPoint  \n",
       "2             0.0417        7           NaN     LowPoint  \n",
       "3             0.0412        0     101425997  NonLowPoint  \n",
       "4             0.0223        7     205649089  NonLowPoint  \n",
       "\n",
       "[5 rows x 50 columns]"
      ]
     },
     "execution_count": 18,
     "metadata": {},
     "output_type": "execute_result"
    }
   ],
   "source": [
    "RegressionData.head()"
   ]
  },
  {
   "cell_type": "code",
   "execution_count": 19,
   "metadata": {},
   "outputs": [
    {
     "data": {
      "text/plain": [
       "5869"
      ]
     },
     "execution_count": 19,
     "metadata": {},
     "output_type": "execute_result"
    }
   ],
   "source": [
    "len(RegressionData)"
   ]
  },
  {
   "cell_type": "markdown",
   "metadata": {},
   "source": [
    "### Regression controlling for Cluster"
   ]
  },
  {
   "cell_type": "code",
   "execution_count": 20,
   "metadata": {
    "collapsed": true
   },
   "outputs": [],
   "source": [
    "mod = smf.ols(formula='L12M_TY_QTY ~ C(BEERTYPE) + C(PREMISE_TYPE_DSC) + C(CLUSTER)', data=RegressionData)"
   ]
  },
  {
   "cell_type": "code",
   "execution_count": 21,
   "metadata": {},
   "outputs": [
    {
     "name": "stdout",
     "output_type": "stream",
     "text": [
      "                            OLS Regression Results                            \n",
      "==============================================================================\n",
      "Dep. Variable:            L12M_TY_QTY   R-squared:                       0.984\n",
      "Model:                            OLS   Adj. R-squared:                  0.984\n",
      "Method:                 Least Squares   F-statistic:                 3.211e+04\n",
      "Date:                Tue, 27 Jun 2017   Prob (F-statistic):               0.00\n",
      "Time:                        15:23:28   Log-Likelihood:                -37473.\n",
      "No. Observations:                5869   AIC:                         7.497e+04\n",
      "Df Residuals:                    5857   BIC:                         7.505e+04\n",
      "Df Model:                          11                                         \n",
      "Covariance Type:            nonrobust                                         \n",
      "=====================================================================================================\n",
      "                                        coef    std err          t      P>|t|      [0.025      0.975]\n",
      "-----------------------------------------------------------------------------------------------------\n",
      "Intercept                           380.0100      6.931     54.827      0.000     366.423     393.598\n",
      "C(BEERTYPE)[T.NonLowPoint]           34.4603      4.611      7.473      0.000      25.421      43.500\n",
      "C(PREMISE_TYPE_DSC)[T.ON PREMISE]   -40.2022      4.713     -8.531      0.000     -49.441     -30.964\n",
      "C(CLUSTER)[T.1]                    2.134e+04    101.731    209.749      0.000    2.11e+04    2.15e+04\n",
      "C(CLUSTER)[T.2]                    1553.0482     13.685    113.486      0.000    1526.221    1579.876\n",
      "C(CLUSTER)[T.3]                    6043.3245     28.819    209.700      0.000    5986.829    6099.820\n",
      "C(CLUSTER)[T.4]                    3.233e+04    143.738    224.891      0.000     3.2e+04    3.26e+04\n",
      "C(CLUSTER)[T.5]                     1.17e+04     51.145    228.720      0.000    1.16e+04    1.18e+04\n",
      "C(CLUSTER)[T.6]                     588.8497     10.585     55.629      0.000     568.099     609.601\n",
      "C(CLUSTER)[T.7]                    -336.2985      6.690    -50.266      0.000    -349.414    -323.183\n",
      "C(CLUSTER)[T.8]                    3141.4812     20.469    153.471      0.000    3101.353    3181.609\n",
      "C(CLUSTER)[T.9]                    4.233e+04    143.738    294.484      0.000     4.2e+04    4.26e+04\n",
      "==============================================================================\n",
      "Omnibus:                     5682.392   Durbin-Watson:                   2.041\n",
      "Prob(Omnibus):                  0.000   Jarque-Bera (JB):          3939774.086\n",
      "Skew:                           3.756   Prob(JB):                         0.00\n",
      "Kurtosis:                     129.706   Cond. No.                         128.\n",
      "==============================================================================\n",
      "\n",
      "Warnings:\n",
      "[1] Standard Errors assume that the covariance matrix of the errors is correctly specified.\n"
     ]
    }
   ],
   "source": [
    "print(mod.fit().summary())"
   ]
  },
  {
   "cell_type": "code",
   "execution_count": 22,
   "metadata": {
    "collapsed": true
   },
   "outputs": [],
   "source": [
    "#Export data to excel\n",
    "RegressionData.to_csv('MinnesotaRegressionData.csv')"
   ]
  },
  {
   "cell_type": "markdown",
   "metadata": {},
   "source": [
    "## Select Cluster Based on Beertype Proportion"
   ]
  },
  {
   "cell_type": "code",
   "execution_count": 23,
   "metadata": {
    "collapsed": true
   },
   "outputs": [],
   "source": [
    "mod2 = smf.ols(formula='L12M_TY_QTY ~ C(BEERTYPE) + C(PREMISE_TYPE_DSC)', data=RegressionData.loc[RegressionData[\"CLUSTER\"]==7,:])"
   ]
  },
  {
   "cell_type": "code",
   "execution_count": 24,
   "metadata": {},
   "outputs": [
    {
     "name": "stdout",
     "output_type": "stream",
     "text": [
      "                            OLS Regression Results                            \n",
      "==============================================================================\n",
      "Dep. Variable:            L12M_TY_QTY   R-squared:                       0.137\n",
      "Model:                            OLS   Adj. R-squared:                  0.136\n",
      "Method:                 Least Squares   F-statistic:                     377.2\n",
      "Date:                Tue, 27 Jun 2017   Prob (F-statistic):          8.37e-153\n",
      "Time:                        15:25:15   Log-Likelihood:                -24685.\n",
      "No. Observations:                4773   AIC:                         4.938e+04\n",
      "Df Residuals:                    4770   BIC:                         4.940e+04\n",
      "Df Model:                           2                                         \n",
      "Covariance Type:            nonrobust                                         \n",
      "=====================================================================================================\n",
      "                                        coef    std err          t      P>|t|      [0.025      0.975]\n",
      "-----------------------------------------------------------------------------------------------------\n",
      "Intercept                            43.0778      1.326     32.481      0.000      40.478      45.678\n",
      "C(BEERTYPE)[T.NonLowPoint]           31.9495      1.446     22.093      0.000      29.114      34.785\n",
      "C(PREMISE_TYPE_DSC)[T.ON PREMISE]   -37.0701      1.552    -23.888      0.000     -40.112     -34.028\n",
      "==============================================================================\n",
      "Omnibus:                     1640.231   Durbin-Watson:                   1.980\n",
      "Prob(Omnibus):                  0.000   Jarque-Bera (JB):             4957.239\n",
      "Skew:                           1.801   Prob(JB):                         0.00\n",
      "Kurtosis:                       6.458   Cond. No.                         4.40\n",
      "==============================================================================\n",
      "\n",
      "Warnings:\n",
      "[1] Standard Errors assume that the covariance matrix of the errors is correctly specified.\n"
     ]
    }
   ],
   "source": [
    "print(mod2.fit().summary())"
   ]
  },
  {
   "cell_type": "code",
   "execution_count": null,
   "metadata": {
    "collapsed": true
   },
   "outputs": [],
   "source": []
  },
  {
   "cell_type": "code",
   "execution_count": null,
   "metadata": {
    "collapsed": true
   },
   "outputs": [],
   "source": []
  }
 ],
 "metadata": {
  "kernelspec": {
   "display_name": "Python 3",
   "language": "python",
   "name": "python3"
  },
  "language_info": {
   "codemirror_mode": {
    "name": "ipython",
    "version": 3
   },
   "file_extension": ".py",
   "mimetype": "text/x-python",
   "name": "python",
   "nbconvert_exporter": "python",
   "pygments_lexer": "ipython3",
   "version": "3.6.1"
  }
 },
 "nbformat": 4,
 "nbformat_minor": 2
}
